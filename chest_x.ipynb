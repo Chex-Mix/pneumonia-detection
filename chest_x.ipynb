{
  "nbformat": 4,
  "nbformat_minor": 0,
  "metadata": {
    "colab": {
      "name": "chest_x.ipynb",
      "version": "0.3.2",
      "provenance": [],
      "collapsed_sections": [],
      "include_colab_link": true
    },
    "kernelspec": {
      "name": "python3",
      "display_name": "Python 3"
    },
    "accelerator": "GPU"
  },
  "cells": [
    {
      "cell_type": "markdown",
      "metadata": {
        "id": "view-in-github",
        "colab_type": "text"
      },
      "source": [
        "[![Open In Colab](https://colab.research.google.com/assets/colab-badge.svg)](https://colab.research.google.com/github/Chex-Mix/pneumonia-detection/blob/master/chest_x.ipynb)"
      ]
    },
    {
      "metadata": {
        "id": "Ouub5RdKyJ8v",
        "colab_type": "text"
      },
      "cell_type": "markdown",
      "source": [
        "# Chex Mix: Improving Pneumonia Detection by Considering Existing Disease Labels\n",
        "Blake List and Daniel Bentall\n",
        "\n",
        "## Abstract\n"
      ]
    },
    {
      "metadata": {
        "id": "csUsyjg0RlzC",
        "colab_type": "code",
        "colab": {
          "base_uri": "https://localhost:8080/",
          "height": 35
        },
        "outputId": "808dcc97-7ef1-4bfd-c8e3-ff2013917294"
      },
      "cell_type": "code",
      "source": [
        "# Import the necessary libraries to use the Google Drive directories.\n",
        "!pip install -U -q PyDrive\n",
        "from pydrive.auth import GoogleAuth\n",
        "from pydrive.drive import GoogleDrive\n",
        "from google.colab import auth\n",
        "from oauth2client.client import GoogleCredentials\n",
        "\n",
        "# Authenticate and create the PyDrive client.\n",
        "auth.authenticate_user()\n",
        "gauth = GoogleAuth()\n",
        "gauth.credentials = GoogleCredentials.get_application_default()\n",
        "drive = GoogleDrive(gauth)\n",
        "\n",
        "# Download image data set using its ID.\n",
        "image_df = drive.CreateFile({'id': '1If9W6LymNNJGEa2U_TfgWcsUBCV6_GoI'})\n",
        "image_df.GetContentFile('balanced_resized.zip')\n",
        "\n",
        "# Unzip the image folder.\n",
        "!unzip -q 'balanced_resized.zip'"
      ],
      "execution_count": 48,
      "outputs": [
        {
          "output_type": "stream",
          "text": [
            "replace resized/00000003_000.png? [y]es, [n]o, [A]ll, [N]one, [r]ename: N\n"
          ],
          "name": "stdout"
        }
      ]
    },
    {
      "metadata": {
        "id": "gUszpApzZPbY",
        "colab_type": "code",
        "colab": {}
      },
      "cell_type": "code",
      "source": [
        "# Import the necessary packages for preprocessing and plotting.\n",
        "import numpy as np\n",
        "import pandas as pd\n",
        "import tensorflow as tf\n",
        "from sklearn.preprocessing import LabelEncoder\n",
        "from sklearn.cross_validation import train_test_split\n",
        "from sklearn.metrics import confusion_matrix\n",
        "from sklearn.metrics import accuracy_score\n",
        "from sklearn.linear_model import LogisticRegression\n",
        "from sklearn.model_selection import StratifiedKFold\n",
        "from sklearn import metrics, neighbors, svm, calibration, tree\n",
        "from sklearn.utils import shuffle\n",
        "import xml.etree.ElementTree as ET\n",
        "import sklearn\n",
        "import itertools\n",
        "import cv2\n",
        "import scipy\n",
        "import os\n",
        "import csv\n",
        "import matplotlib.pyplot as plt\n",
        "import matplotlib.image as mpimg\n",
        "from tqdm import tqdm\n",
        "%matplotlib inline"
      ],
      "execution_count": 0,
      "outputs": []
    },
    {
      "metadata": {
        "id": "HJZeCMVZRnsi",
        "colab_type": "code",
        "colab": {
          "base_uri": "https://localhost:8080/",
          "height": 920
        },
        "outputId": "6d5db551-b8ef-4db0-b89a-81b95888684e"
      },
      "cell_type": "code",
      "source": [
        "# https://matplotlib.org/users/image_tutorial.html\n",
        "# https://www.kdnuggets.com/2018/09/dropout-convolutional-networks.html\n",
        "\n",
        "# Plot an image and its shape from the folder to see what it looks like\n",
        "image = cv2.imread(\"resized/00000013_041.png\")\n",
        "im_shape = image.shape\n",
        "\n",
        "plt.figure(figsize=(16,16))\n",
        "plt.imshow(image)\n",
        "plt.show()"
      ],
      "execution_count": 50,
      "outputs": [
        {
          "output_type": "display_data",
          "data": {
            "image/png": "[encoded data removed]",
            "text/plain": [
              "<matplotlib.figure.Figure at 0x7fe9c9a09048>"
            ]
          },
          "metadata": {
            "tags": []
          }
        }
      ]
    },
    {
      "metadata": {
        "id": "V7WVXyexejD-",
        "colab_type": "code",
        "colab": {
          "base_uri": "https://localhost:8080/",
          "height": 369
        },
        "outputId": "24fe1df2-bae8-4dfd-f776-226b2b31967b"
      },
      "cell_type": "code",
      "source": [
        "# Load in the label csv that includes the image index, thoracic pathologies and \n",
        "# basic patient information. Read in the dataframe and print it.\n",
        "  \n",
        "labels_data = drive.CreateFile({'id': '1SGohw8fB1J4QIRX2rr_uQa5158ZApqbk'})\n",
        "labels_data.GetContentFile('balanced_resized_labels.csv')\n",
        "\n",
        "with open('balanced_resized_labels.csv', 'r') as labels_df:\n",
        "    labels_df = pd.read_csv('balanced_resized_labels.csv')\n",
        "    \n",
        "#labels_data = drive.CreateFile({'id': '1BRQMesGMIJuNBmHda2BHUs_F3izA8Ubt'})\n",
        "#labels_data.GetContentFile('balanced_50_50_set_labels.csv')\n",
        "#\n",
        "#with open('balanced_50_50_set_labels.csv', 'r') as labels_df:\n",
        "#  labels_df = pd.read_csv('balanced_50_50_set_labels.csv')\n",
        "    \n",
        "  \n",
        "print(labels_df.head())"
      ],
      "execution_count": 51,
      "outputs": [
        {
          "output_type": "stream",
          "text": [
            "        Image Index             Finding Labels  Follow-up #  Patient ID  \\\n",
            "0  00014022_077.png                 No Finding           77       14022   \n",
            "1  00014706_012.png  Cardiomegaly|Infiltration           12       14706   \n",
            "2  00011460_032.png               Pneumothorax           32       11460   \n",
            "3  00029259_010.png                  Emphysema           10       29259   \n",
            "4  00012834_132.png         Pleural_Thickening          132       12834   \n",
            "\n",
            "   Patient Age Patient Gender View Position  OriginalImage[Width  Height]  \\\n",
            "0           66              M            AP                 2500     2048   \n",
            "1           21              F            AP                 2500     2048   \n",
            "2           16              M            PA                 2992     2991   \n",
            "3           34              F            AP                 3056     2544   \n",
            "4           33              M            AP                 2500     2048   \n",
            "\n",
            "   OriginalImagePixelSpacing[x     y]  X12  \n",
            "0                        0.168  0.168  NaN  \n",
            "1                        0.168  0.168  NaN  \n",
            "2                        0.143  0.143  NaN  \n",
            "3                        0.139  0.139  NaN  \n",
            "4                        0.168  0.168  NaN  \n"
          ],
          "name": "stdout"
        }
      ]
    },
    {
      "metadata": {
        "id": "oOXN9pmMocsh",
        "colab_type": "code",
        "colab": {}
      },
      "cell_type": "code",
      "source": [
        "# Extract only the columns that are needed for the preprocessing of the \n",
        "# dataframe for the logistic model\n",
        "df = labels_df.loc[:, ['Image Index', 'Patient Age', 'Patient Gender', 'Follow-up #']]"
      ],
      "execution_count": 0,
      "outputs": []
    },
    {
      "metadata": {
        "id": "u9S3UqcGrh19",
        "colab_type": "code",
        "colab": {}
      },
      "cell_type": "code",
      "source": [
        "# Create a separate dataframe containing the labels column.\n",
        "df_labs = labels_df.loc[:, ['Finding Labels']]"
      ],
      "execution_count": 0,
      "outputs": []
    },
    {
      "metadata": {
        "id": "bv7EQJ0HsRwT",
        "colab_type": "code",
        "colab": {}
      },
      "cell_type": "code",
      "source": [
        "# Create a list of all the labels that will be extracted from the labels column.\n",
        "labels = ['Atelectasis', 'Consolidation', 'Infiltration', 'Pneumothorax',\n",
        "          'Edema', 'Emphysema', 'Fibrosis', 'Effusion', 'Pneumonia', 'Nodule',\n",
        "          'Pleural_Thickening', 'Cardiomegaly', 'Mass', 'Hernia']"
      ],
      "execution_count": 0,
      "outputs": []
    },
    {
      "metadata": {
        "id": "ZrPAUs62sRtX",
        "colab_type": "code",
        "colab": {}
      },
      "cell_type": "code",
      "source": [
        "# Create a function to extract each disease as a boolean for each row; True \n",
        "# where the disease is present in Finding Labels, False otherwise.\n",
        "# Append it as its own column back to 'df' that will be used for the logistic.\n",
        "def label_finder(label):\n",
        "    df[label] = df_labs[df_labs['Finding Labels'].str.contains(label)]\n",
        "    df[label] = df[label].notnull()"
      ],
      "execution_count": 0,
      "outputs": []
    },
    {
      "metadata": {
        "id": "brYBfd3lsRqK",
        "colab_type": "code",
        "colab": {}
      },
      "cell_type": "code",
      "source": [
        "# Iterate over the list of labels and pass to the disease finder function.\n",
        "for label in labels:\n",
        "  label_finder(str(label))"
      ],
      "execution_count": 0,
      "outputs": []
    },
    {
      "metadata": {
        "id": "jHCssCbVsopd",
        "colab_type": "code",
        "colab": {}
      },
      "cell_type": "code",
      "source": [
        "# Convert the patient genders to booleans, where male is True.\n",
        "df['Patient Gender'] = df['Patient Gender'] == 'M'"
      ],
      "execution_count": 0,
      "outputs": []
    },
    {
      "metadata": {
        "id": "ncLlMoj6soma",
        "colab_type": "code",
        "colab": {
          "base_uri": "https://localhost:8080/",
          "height": 492
        },
        "outputId": "a0a4f066-562d-480c-b0b6-968f83387182"
      },
      "cell_type": "code",
      "source": [
        "# Print the dataframe so far. We can see that all diseases are in separate\n",
        "# columns as booleans. These will all be encoded to 1/0 for the logistic model.\n",
        "print(df.head())"
      ],
      "execution_count": 58,
      "outputs": [
        {
          "output_type": "stream",
          "text": [
            "        Image Index  Patient Age  Patient Gender  Follow-up #  Atelectasis  \\\n",
            "0  00014022_077.png           66            True           77        False   \n",
            "1  00014706_012.png           21           False           12        False   \n",
            "2  00011460_032.png           16            True           32        False   \n",
            "3  00029259_010.png           34           False           10        False   \n",
            "4  00012834_132.png           33            True          132        False   \n",
            "\n",
            "   Consolidation  Infiltration  Pneumothorax  Edema  Emphysema  Fibrosis  \\\n",
            "0          False         False         False  False      False     False   \n",
            "1          False          True         False  False      False     False   \n",
            "2          False         False          True  False      False     False   \n",
            "3          False         False         False  False       True     False   \n",
            "4          False         False         False  False      False     False   \n",
            "\n",
            "   Effusion  Pneumonia  Nodule  Pleural_Thickening  Cardiomegaly   Mass  \\\n",
            "0     False      False   False               False         False  False   \n",
            "1     False      False   False               False          True  False   \n",
            "2     False      False   False               False         False  False   \n",
            "3     False      False   False               False         False  False   \n",
            "4     False      False   False                True         False  False   \n",
            "\n",
            "   Hernia  \n",
            "0   False  \n",
            "1   False  \n",
            "2   False  \n",
            "3   False  \n",
            "4   False  \n"
          ],
          "name": "stdout"
        }
      ]
    },
    {
      "metadata": {
        "id": "jNX-N7nzvePb",
        "colab_type": "code",
        "colab": {}
      },
      "cell_type": "code",
      "source": [
        "# Apply Sklearn's label encoder to convert the boolean columns from True/False \n",
        "# to 1/0.\n",
        "df = df.select_dtypes(exclude=['object', 'number']).apply(LabelEncoder().fit_transform).join(df.select_dtypes(include=['object', 'number']))"
      ],
      "execution_count": 0,
      "outputs": []
    },
    {
      "metadata": {
        "id": "Y5mSZJMenAuz",
        "colab_type": "code",
        "colab": {
          "base_uri": "https://localhost:8080/",
          "height": 492
        },
        "outputId": "a0ccf84d-b7ce-4123-ece5-b865105360e0"
      },
      "cell_type": "code",
      "source": [
        "# Print out the dataframe again.\n",
        "print(df.head())"
      ],
      "execution_count": 60,
      "outputs": [
        {
          "output_type": "stream",
          "text": [
            "   Patient Gender  Atelectasis  Consolidation  Infiltration  Pneumothorax  \\\n",
            "0               1            0              0             0             0   \n",
            "1               0            0              0             1             0   \n",
            "2               1            0              0             0             1   \n",
            "3               0            0              0             0             0   \n",
            "4               1            0              0             0             0   \n",
            "\n",
            "   Edema  Emphysema  Fibrosis  Effusion  Pneumonia  Nodule  \\\n",
            "0      0          0         0         0          0       0   \n",
            "1      0          0         0         0          0       0   \n",
            "2      0          0         0         0          0       0   \n",
            "3      0          1         0         0          0       0   \n",
            "4      0          0         0         0          0       0   \n",
            "\n",
            "   Pleural_Thickening  Cardiomegaly  Mass  Hernia       Image Index  \\\n",
            "0                   0             0     0       0  00014022_077.png   \n",
            "1                   0             1     0       0  00014706_012.png   \n",
            "2                   0             0     0       0  00011460_032.png   \n",
            "3                   0             0     0       0  00029259_010.png   \n",
            "4                   1             0     0       0  00012834_132.png   \n",
            "\n",
            "   Patient Age  Follow-up #  \n",
            "0           66           77  \n",
            "1           21           12  \n",
            "2           16           32  \n",
            "3           34           10  \n",
            "4           33          132  \n"
          ],
          "name": "stdout"
        }
      ]
    },
    {
      "metadata": {
        "id": "p4rf0nhVHE8g",
        "colab_type": "code",
        "colab": {
          "base_uri": "https://localhost:8080/",
          "height": 125
        },
        "outputId": "564ebecc-f4a7-4511-a7f0-c00495f1e115"
      },
      "cell_type": "code",
      "source": [
        "# Set the image size and input shape. Extract the image arrays and resize them \n",
        "# to the specified input shape then append them to a list.\n",
        "img_size = 168\n",
        "\n",
        "input_shape = (img_size, img_size, 3)\n",
        "\n",
        "X = []\n",
        "\n",
        "for image_filename in tqdm(df['Image Index']):       \n",
        "  img_file = cv2.imread('resized' + '/' + image_filename)\n",
        "  img_file = scipy.misc.imresize(arr=img_file, size=input_shape)\n",
        "  img_arr = np.asarray(img_file)\n",
        "  X.append(img_arr)"
      ],
      "execution_count": 61,
      "outputs": [
        {
          "output_type": "stream",
          "text": [
            "  0%|          | 0/29100 [00:00<?, ?it/s]/usr/local/lib/python3.6/dist-packages/scipy/misc/pilutil.py:482: FutureWarning: Conversion of the second argument of issubdtype from `int` to `np.signedinteger` is deprecated. In future, it will be treated as `np.int64 == np.dtype(int).type`.\n",
            "  if issubdtype(ts, int):\n",
            "/usr/local/lib/python3.6/dist-packages/scipy/misc/pilutil.py:485: FutureWarning: Conversion of the second argument of issubdtype from `float` to `np.floating` is deprecated. In future, it will be treated as `np.float64 == np.dtype(float).type`.\n",
            "  elif issubdtype(type(size), float):\n",
            "100%|██████████| 29100/29100 [00:58<00:00, 502.81it/s]\n"
          ],
          "name": "stderr"
        }
      ]
    },
    {
      "metadata": {
        "id": "24HtwbLxzT0E",
        "colab_type": "code",
        "colab": {}
      },
      "cell_type": "code",
      "source": [
        "# Convert the list of image arrays to a Pandas series and create a new column\n",
        "# in the full dataframe with its values as the column elements.\n",
        "X = pd.Series(X)\n",
        "df['img_arr'] = X.values"
      ],
      "execution_count": 0,
      "outputs": []
    },
    {
      "metadata": {
        "id": "Sm8URMTGyx4Q",
        "colab_type": "code",
        "colab": {
          "base_uri": "https://localhost:8080/",
          "height": 510
        },
        "outputId": "63a86f38-602a-49bb-e258-b48434a1bad8"
      },
      "cell_type": "code",
      "source": [
        "print(df.head())\n",
        "print(df.shape)"
      ],
      "execution_count": 63,
      "outputs": [
        {
          "output_type": "stream",
          "text": [
            "   Patient Gender  Atelectasis  Consolidation  Infiltration  Pneumothorax  \\\n",
            "0               1            0              0             0             0   \n",
            "1               0            0              0             1             0   \n",
            "2               1            0              0             0             1   \n",
            "3               0            0              0             0             0   \n",
            "4               1            0              0             0             0   \n",
            "\n",
            "   Edema  Emphysema  Fibrosis  Effusion  Pneumonia  Nodule  \\\n",
            "0      0          0         0         0          0       0   \n",
            "1      0          0         0         0          0       0   \n",
            "2      0          0         0         0          0       0   \n",
            "3      0          1         0         0          0       0   \n",
            "4      0          0         0         0          0       0   \n",
            "\n",
            "   Pleural_Thickening  Cardiomegaly  Mass  Hernia       Image Index  \\\n",
            "0                   0             0     0       0  00014022_077.png   \n",
            "1                   0             1     0       0  00014706_012.png   \n",
            "2                   0             0     0       0  00011460_032.png   \n",
            "3                   0             0     0       0  00029259_010.png   \n",
            "4                   1             0     0       0  00012834_132.png   \n",
            "\n",
            "   Patient Age  Follow-up #                                            img_arr  \n",
            "0           66           77  [[[0, 0, 0], [0, 0, 0], [1, 1, 1], [11, 11, 11...  \n",
            "1           21           12  [[[0, 0, 0], [0, 0, 0], [0, 0, 0], [1, 1, 1], ...  \n",
            "2           16           32  [[[3, 3, 3], [3, 3, 3], [3, 3, 3], [3, 3, 3], ...  \n",
            "3           34           10  [[[0, 0, 0], [0, 0, 0], [0, 0, 0], [0, 0, 0], ...  \n",
            "4           33          132  [[[15, 15, 15], [19, 19, 19], [17, 17, 17], [1...  \n",
            "(29100, 19)\n"
          ],
          "name": "stdout"
        }
      ]
    },
    {
      "metadata": {
        "id": "QKBSN618g4dc",
        "colab_type": "code",
        "colab": {
          "base_uri": "https://localhost:8080/",
          "height": 123
        },
        "outputId": "908341ef-a459-4b3e-8dfb-d4d23197d48d"
      },
      "cell_type": "code",
      "source": [
        "labels_data = drive.CreateFile({'id': '1lRMSsJZXaJBl3ajhcK-oIs5KroyMFiQp'})\n",
        "labels_data.GetContentFile('train_val_list.txt')\n",
        "\n",
        "with open('train_val_list.txt', 'r') as f:\n",
        "    train_list = [x.strip() for x in f.readlines()]\n",
        "  \n",
        "  \n",
        "train_list = pd.DataFrame({'Image Index' : train_list})\n",
        "print(train_list.head())"
      ],
      "execution_count": 64,
      "outputs": [
        {
          "output_type": "stream",
          "text": [
            "        Image Index\n",
            "0  00000001_000.png\n",
            "1  00000001_001.png\n",
            "2  00000001_002.png\n",
            "3  00000002_000.png\n",
            "4  00000004_000.png\n"
          ],
          "name": "stdout"
        }
      ]
    },
    {
      "metadata": {
        "id": "aDyEpqIyiQuM",
        "colab_type": "code",
        "colab": {
          "base_uri": "https://localhost:8080/",
          "height": 123
        },
        "outputId": "01a7dfda-de5f-4849-97b9-75ba85a713a5"
      },
      "cell_type": "code",
      "source": [
        "labels_data = drive.CreateFile({'id': '1P9xhlHs5aulb0UjsryjDmLdugGRC6lDu'})\n",
        "labels_data.GetContentFile('test_list.txt')\n",
        "\n",
        "with open('test_list.txt', 'r') as f:\n",
        "    test_list = [x.strip() for x in f.readlines()]\n",
        "  \n",
        "  \n",
        "test_list = pd.DataFrame({'Image Index' : test_list})\n",
        "print(test_list.head())"
      ],
      "execution_count": 65,
      "outputs": [
        {
          "output_type": "stream",
          "text": [
            "        Image Index\n",
            "0  00000003_000.png\n",
            "1  00000003_001.png\n",
            "2  00000003_002.png\n",
            "3  00000003_003.png\n",
            "4  00000003_004.png\n"
          ],
          "name": "stdout"
        }
      ]
    },
    {
      "metadata": {
        "id": "rm5NBLP_zA4e",
        "colab_type": "code",
        "colab": {}
      },
      "cell_type": "code",
      "source": [
        "train = pd.merge(df, train_list, on='Image Index', how='inner')\n",
        "test = pd.merge(df, test_list, on='Image Index', how='inner')"
      ],
      "execution_count": 0,
      "outputs": []
    },
    {
      "metadata": {
        "id": "C_s_KskQ0HEI",
        "colab_type": "code",
        "colab": {
          "base_uri": "https://localhost:8080/",
          "height": 52
        },
        "outputId": "14a4a7d2-0def-456b-8635-fddbe543a484"
      },
      "cell_type": "code",
      "source": [
        "print(train.shape)\n",
        "print(test.shape)"
      ],
      "execution_count": 67,
      "outputs": [
        {
          "output_type": "stream",
          "text": [
            "(3504, 19)\n",
            "(25596, 19)\n"
          ],
          "name": "stdout"
        }
      ]
    },
    {
      "metadata": {
        "id": "J3Ap7BYK25-h",
        "colab_type": "code",
        "colab": {}
      },
      "cell_type": "code",
      "source": [
        "#train = shuffle(train)\n",
        "#test = shuffle(test)"
      ],
      "execution_count": 0,
      "outputs": []
    },
    {
      "metadata": {
        "id": "ku7K8xJVw1gS",
        "colab_type": "code",
        "colab": {}
      },
      "cell_type": "code",
      "source": [
        "train, validate = train_test_split(train, test_size=0.25, random_state=1)"
      ],
      "execution_count": 0,
      "outputs": []
    },
    {
      "metadata": {
        "id": "QcClMeRj47bo",
        "colab_type": "code",
        "colab": {}
      },
      "cell_type": "code",
      "source": [
        "X_train = train.drop(['Pneumonia'], axis=1)\n",
        "X_test = test.drop(['Pneumonia'], axis=1)\n",
        "y_train = train['Pneumonia']\n",
        "y_test = test['Pneumonia']"
      ],
      "execution_count": 0,
      "outputs": []
    },
    {
      "metadata": {
        "id": "fkDT6paLxSC0",
        "colab_type": "code",
        "colab": {}
      },
      "cell_type": "code",
      "source": [
        "X_validate = validate.drop(['Pneumonia'], axis=1)\n",
        "y_validate = validate['Pneumonia']"
      ],
      "execution_count": 0,
      "outputs": []
    },
    {
      "metadata": {
        "id": "SGiZp3FivzhN",
        "colab_type": "code",
        "colab": {}
      },
      "cell_type": "code",
      "source": [
        "# Encode labels to hot vectors (ex : 1 -> [0,1])\n",
        "from keras.utils.np_utils import to_categorical\n",
        "y_trainHot = to_categorical(y_train, num_classes = 2)\n",
        "y_testHot = to_categorical(y_test, num_classes = 2)\n",
        "y_validateHot = to_categorical(y_validate, num_classes = 2)"
      ],
      "execution_count": 0,
      "outputs": []
    },
    {
      "metadata": {
        "id": "m2EAKqiJYvYf",
        "colab_type": "code",
        "colab": {
          "base_uri": "https://localhost:8080/",
          "height": 123
        },
        "outputId": "152c9d24-18c8-4039-c6d2-3e83b634917d"
      },
      "cell_type": "code",
      "source": [
        "print(X_train.shape)\n",
        "print(y_train.shape)\n",
        "print(X_test.shape)\n",
        "print(y_test.shape)\n",
        "print(y_trainHot.shape)\n",
        "print(y_testHot.shape)"
      ],
      "execution_count": 73,
      "outputs": [
        {
          "output_type": "stream",
          "text": [
            "(2628, 18)\n",
            "(2628,)\n",
            "(25596, 18)\n",
            "(25596,)\n",
            "(2628, 2)\n",
            "(25596, 2)\n"
          ],
          "name": "stdout"
        }
      ]
    },
    {
      "metadata": {
        "id": "I6oG2YlhvuhY",
        "colab_type": "code",
        "colab": {}
      },
      "cell_type": "code",
      "source": [
        "import keras\n",
        "#see https://keras.io/applications/ for information on customization\n",
        "\n",
        "from keras.applications.densenet import DenseNet121\n",
        "from keras.preprocessing import image\n",
        "from keras.models import Model\n",
        "from keras import optimizers\n",
        "from keras.applications.densenet import preprocess_input, decode_predictions\n",
        "from keras.layers import Dense, GlobalAveragePooling2D, Dropout, Flatten, MaxPooling2D\n",
        "from keras import backend as K\n",
        "\n",
        "\n",
        "# create the base pre-trained model\n",
        "base_model = DenseNet121(weights='imagenet', include_top=False)\n",
        "\n",
        "# add a global spatial average pooling layer\n",
        "x = base_model.output\n",
        "x = GlobalAveragePooling2D()(x)\n",
        "\n",
        "# let's add a fully-connected layer\n",
        "x = Dense(128, activation='relu')(x)\n",
        "x = Dense(8, activation='relu')(x)\n",
        "\n",
        "# and a logistic layer\n",
        "predictions = Dense(2, activation='softmax')(x)\n",
        "\n",
        "\n",
        "# this is the model we will train\n",
        "model = Model(inputs=base_model.input, outputs=predictions)\n"
      ],
      "execution_count": 0,
      "outputs": []
    },
    {
      "metadata": {
        "id": "6R57EjlF3bdd",
        "colab_type": "code",
        "colab": {
          "base_uri": "https://localhost:8080/",
          "height": 35
        },
        "outputId": "527ad431-4e03-4bb1-b703-49ab800983e2"
      },
      "cell_type": "code",
      "source": [
        "train_list = np.asarray(X_train['img_arr'].tolist())\n",
        "print(train_list.shape)"
      ],
      "execution_count": 75,
      "outputs": [
        {
          "output_type": "stream",
          "text": [
            "(2628, 168, 168, 3)\n"
          ],
          "name": "stdout"
        }
      ]
    },
    {
      "metadata": {
        "id": "E_dxy8Os-r3e",
        "colab_type": "code",
        "colab": {}
      },
      "cell_type": "code",
      "source": [
        "#http://www.deepideas.net/unbalanced-classes-machine-learning/\n",
        "\n",
        "def recall(y_true, y_pred):\n",
        "    true_positives = K.sum(K.round(K.clip(y_true * y_pred, 0, 1)))\n",
        "    possible_positives = K.sum(K.round(K.clip(y_true, 0, 1)))\n",
        "    return true_positives / (possible_positives + K.epsilon())\n",
        "\n",
        "def specificity(y_true, y_pred):\n",
        "    true_negatives = K.sum(K.round(K.clip((1-y_true) * (1-y_pred), 0, 1)))\n",
        "    possible_negatives = K.sum(K.round(K.clip(1-y_true, 0, 1)))\n",
        "    return true_negatives / (possible_negatives + K.epsilon())\n",
        "  \n",
        "def precision(y_true, y_pred):\n",
        "    true_positives = K.sum(K.round(K.clip(y_true * y_pred, 0, 1)))\n",
        "    total_predicited_positives = K.sum(K.round(K.clip(y_pred, 0, 1)))\n",
        "    return true_positives / (total_predicited_positives + K.epsilon())\n",
        "  \n",
        "def f1_score(precision, recall):\n",
        "    return 2*((precision*recall)/(precision+recall))\n"
      ],
      "execution_count": 0,
      "outputs": []
    },
    {
      "metadata": {
        "id": "OCJgmsNs_If9",
        "colab_type": "code",
        "colab": {
          "base_uri": "https://localhost:8080/",
          "height": 407
        },
        "outputId": "08ea765c-f439-42a5-bc0e-a4c5b364da62"
      },
      "cell_type": "code",
      "source": [
        "# first: train only the top layers (which were randomly initialized)\n",
        "# i.e. freeze all convolutional InceptionV3 layers\n",
        "for layer in base_model.layers:\n",
        "    layer.trainable = False\n",
        "    \n",
        "# compile the model (should be done *after* setting layers to non-trainable)\n",
        "model.compile(\n",
        "    loss='binary_crossentropy',\n",
        "    optimizer='adam',\n",
        "    metrics=['accuracy']\n",
        ")\n",
        "\n",
        "\n",
        "# train the model on the new data for a few epochs\n",
        "\n",
        "model.fit(np.asarray(X_train['img_arr'].tolist()), y_trainHot, epochs=10)\n",
        "\n",
        "\n",
        "#datagen = tf.keras.preprocessing.image.ImageDataGenerator(horizontal_flip=True)\n",
        "\n",
        "#datagen.fit(train_list)\n",
        "#model.fit_generator(datagen.flow(train_list, y_trainHot, batch_size=32), steps_per_epoch=100, epochs=30)"
      ],
      "execution_count": 77,
      "outputs": [
        {
          "output_type": "stream",
          "text": [
            "Epoch 1/10\n",
            "2628/2628 [==============================] - 17s 6ms/step - loss: 0.5879 - acc: 0.7249\n",
            "Epoch 2/10\n",
            "2628/2628 [==============================] - 12s 5ms/step - loss: 0.5176 - acc: 0.7462\n",
            "Epoch 3/10\n",
            "2628/2628 [==============================] - 12s 5ms/step - loss: 0.4911 - acc: 0.7489\n",
            "Epoch 4/10\n",
            "2628/2628 [==============================] - 12s 5ms/step - loss: 0.4518 - acc: 0.7599\n",
            "Epoch 5/10\n",
            "2628/2628 [==============================] - 12s 5ms/step - loss: 0.4120 - acc: 0.8002\n",
            "Epoch 6/10\n",
            "2628/2628 [==============================] - 12s 5ms/step - loss: 0.3681 - acc: 0.8288\n",
            "Epoch 7/10\n",
            "2628/2628 [==============================] - 12s 5ms/step - loss: 0.3162 - acc: 0.8676\n",
            "Epoch 8/10\n",
            "2628/2628 [==============================] - 12s 5ms/step - loss: 0.2737 - acc: 0.8801\n",
            "Epoch 9/10\n",
            "2628/2628 [==============================] - 12s 5ms/step - loss: 0.2163 - acc: 0.9189\n",
            "Epoch 10/10\n",
            "2628/2628 [==============================] - 12s 5ms/step - loss: 0.1664 - acc: 0.9425\n"
          ],
          "name": "stdout"
        },
        {
          "output_type": "execute_result",
          "data": {
            "text/plain": [
              "<keras.callbacks.History at 0x7fe96969e390>"
            ]
          },
          "metadata": {
            "tags": []
          },
          "execution_count": 77
        }
      ]
    },
    {
      "metadata": {
        "id": "yJCgPaz1RkYH",
        "colab_type": "code",
        "colab": {
          "base_uri": "https://localhost:8080/",
          "height": 7585
        },
        "outputId": "b5403d29-6870-4295-8455-b6d25d5bac9c"
      },
      "cell_type": "code",
      "source": [
        "# let's visualize layer names and layer indices to see how many layers\n",
        "# we should freeze:\n",
        "for i, layer in enumerate(model.layers):\n",
        "   print(i, layer.name)"
      ],
      "execution_count": 78,
      "outputs": [
        {
          "output_type": "stream",
          "text": [
            "0 input_2\n",
            "1 zero_padding2d_3\n",
            "2 conv1/conv\n",
            "3 conv1/bn\n",
            "4 conv1/relu\n",
            "5 zero_padding2d_4\n",
            "6 pool1\n",
            "7 conv2_block1_0_bn\n",
            "8 conv2_block1_0_relu\n",
            "9 conv2_block1_1_conv\n",
            "10 conv2_block1_1_bn\n",
            "11 conv2_block1_1_relu\n",
            "12 conv2_block1_2_conv\n",
            "13 conv2_block1_concat\n",
            "14 conv2_block2_0_bn\n",
            "15 conv2_block2_0_relu\n",
            "16 conv2_block2_1_conv\n",
            "17 conv2_block2_1_bn\n",
            "18 conv2_block2_1_relu\n",
            "19 conv2_block2_2_conv\n",
            "20 conv2_block2_concat\n",
            "21 conv2_block3_0_bn\n",
            "22 conv2_block3_0_relu\n",
            "23 conv2_block3_1_conv\n",
            "24 conv2_block3_1_bn\n",
            "25 conv2_block3_1_relu\n",
            "26 conv2_block3_2_conv\n",
            "27 conv2_block3_concat\n",
            "28 conv2_block4_0_bn\n",
            "29 conv2_block4_0_relu\n",
            "30 conv2_block4_1_conv\n",
            "31 conv2_block4_1_bn\n",
            "32 conv2_block4_1_relu\n",
            "33 conv2_block4_2_conv\n",
            "34 conv2_block4_concat\n",
            "35 conv2_block5_0_bn\n",
            "36 conv2_block5_0_relu\n",
            "37 conv2_block5_1_conv\n",
            "38 conv2_block5_1_bn\n",
            "39 conv2_block5_1_relu\n",
            "40 conv2_block5_2_conv\n",
            "41 conv2_block5_concat\n",
            "42 conv2_block6_0_bn\n",
            "43 conv2_block6_0_relu\n",
            "44 conv2_block6_1_conv\n",
            "45 conv2_block6_1_bn\n",
            "46 conv2_block6_1_relu\n",
            "47 conv2_block6_2_conv\n",
            "48 conv2_block6_concat\n",
            "49 pool2_bn\n",
            "50 pool2_relu\n",
            "51 pool2_conv\n",
            "52 pool2_pool\n",
            "53 conv3_block1_0_bn\n",
            "54 conv3_block1_0_relu\n",
            "55 conv3_block1_1_conv\n",
            "56 conv3_block1_1_bn\n",
            "57 conv3_block1_1_relu\n",
            "58 conv3_block1_2_conv\n",
            "59 conv3_block1_concat\n",
            "60 conv3_block2_0_bn\n",
            "61 conv3_block2_0_relu\n",
            "62 conv3_block2_1_conv\n",
            "63 conv3_block2_1_bn\n",
            "64 conv3_block2_1_relu\n",
            "65 conv3_block2_2_conv\n",
            "66 conv3_block2_concat\n",
            "67 conv3_block3_0_bn\n",
            "68 conv3_block3_0_relu\n",
            "69 conv3_block3_1_conv\n",
            "70 conv3_block3_1_bn\n",
            "71 conv3_block3_1_relu\n",
            "72 conv3_block3_2_conv\n",
            "73 conv3_block3_concat\n",
            "74 conv3_block4_0_bn\n",
            "75 conv3_block4_0_relu\n",
            "76 conv3_block4_1_conv\n",
            "77 conv3_block4_1_bn\n",
            "78 conv3_block4_1_relu\n",
            "79 conv3_block4_2_conv\n",
            "80 conv3_block4_concat\n",
            "81 conv3_block5_0_bn\n",
            "82 conv3_block5_0_relu\n",
            "83 conv3_block5_1_conv\n",
            "84 conv3_block5_1_bn\n",
            "85 conv3_block5_1_relu\n",
            "86 conv3_block5_2_conv\n",
            "87 conv3_block5_concat\n",
            "88 conv3_block6_0_bn\n",
            "89 conv3_block6_0_relu\n",
            "90 conv3_block6_1_conv\n",
            "91 conv3_block6_1_bn\n",
            "92 conv3_block6_1_relu\n",
            "93 conv3_block6_2_conv\n",
            "94 conv3_block6_concat\n",
            "95 conv3_block7_0_bn\n",
            "96 conv3_block7_0_relu\n",
            "97 conv3_block7_1_conv\n",
            "98 conv3_block7_1_bn\n",
            "99 conv3_block7_1_relu\n",
            "100 conv3_block7_2_conv\n",
            "101 conv3_block7_concat\n",
            "102 conv3_block8_0_bn\n",
            "103 conv3_block8_0_relu\n",
            "104 conv3_block8_1_conv\n",
            "105 conv3_block8_1_bn\n",
            "106 conv3_block8_1_relu\n",
            "107 conv3_block8_2_conv\n",
            "108 conv3_block8_concat\n",
            "109 conv3_block9_0_bn\n",
            "110 conv3_block9_0_relu\n",
            "111 conv3_block9_1_conv\n",
            "112 conv3_block9_1_bn\n",
            "113 conv3_block9_1_relu\n",
            "114 conv3_block9_2_conv\n",
            "115 conv3_block9_concat\n",
            "116 conv3_block10_0_bn\n",
            "117 conv3_block10_0_relu\n",
            "118 conv3_block10_1_conv\n",
            "119 conv3_block10_1_bn\n",
            "120 conv3_block10_1_relu\n",
            "121 conv3_block10_2_conv\n",
            "122 conv3_block10_concat\n",
            "123 conv3_block11_0_bn\n",
            "124 conv3_block11_0_relu\n",
            "125 conv3_block11_1_conv\n",
            "126 conv3_block11_1_bn\n",
            "127 conv3_block11_1_relu\n",
            "128 conv3_block11_2_conv\n",
            "129 conv3_block11_concat\n",
            "130 conv3_block12_0_bn\n",
            "131 conv3_block12_0_relu\n",
            "132 conv3_block12_1_conv\n",
            "133 conv3_block12_1_bn\n",
            "134 conv3_block12_1_relu\n",
            "135 conv3_block12_2_conv\n",
            "136 conv3_block12_concat\n",
            "137 pool3_bn\n",
            "138 pool3_relu\n",
            "139 pool3_conv\n",
            "140 pool3_pool\n",
            "141 conv4_block1_0_bn\n",
            "142 conv4_block1_0_relu\n",
            "143 conv4_block1_1_conv\n",
            "144 conv4_block1_1_bn\n",
            "145 conv4_block1_1_relu\n",
            "146 conv4_block1_2_conv\n",
            "147 conv4_block1_concat\n",
            "148 conv4_block2_0_bn\n",
            "149 conv4_block2_0_relu\n",
            "150 conv4_block2_1_conv\n",
            "151 conv4_block2_1_bn\n",
            "152 conv4_block2_1_relu\n",
            "153 conv4_block2_2_conv\n",
            "154 conv4_block2_concat\n",
            "155 conv4_block3_0_bn\n",
            "156 conv4_block3_0_relu\n",
            "157 conv4_block3_1_conv\n",
            "158 conv4_block3_1_bn\n",
            "159 conv4_block3_1_relu\n",
            "160 conv4_block3_2_conv\n",
            "161 conv4_block3_concat\n",
            "162 conv4_block4_0_bn\n",
            "163 conv4_block4_0_relu\n",
            "164 conv4_block4_1_conv\n",
            "165 conv4_block4_1_bn\n",
            "166 conv4_block4_1_relu\n",
            "167 conv4_block4_2_conv\n",
            "168 conv4_block4_concat\n",
            "169 conv4_block5_0_bn\n",
            "170 conv4_block5_0_relu\n",
            "171 conv4_block5_1_conv\n",
            "172 conv4_block5_1_bn\n",
            "173 conv4_block5_1_relu\n",
            "174 conv4_block5_2_conv\n",
            "175 conv4_block5_concat\n",
            "176 conv4_block6_0_bn\n",
            "177 conv4_block6_0_relu\n",
            "178 conv4_block6_1_conv\n",
            "179 conv4_block6_1_bn\n",
            "180 conv4_block6_1_relu\n",
            "181 conv4_block6_2_conv\n",
            "182 conv4_block6_concat\n",
            "183 conv4_block7_0_bn\n",
            "184 conv4_block7_0_relu\n",
            "185 conv4_block7_1_conv\n",
            "186 conv4_block7_1_bn\n",
            "187 conv4_block7_1_relu\n",
            "188 conv4_block7_2_conv\n",
            "189 conv4_block7_concat\n",
            "190 conv4_block8_0_bn\n",
            "191 conv4_block8_0_relu\n",
            "192 conv4_block8_1_conv\n",
            "193 conv4_block8_1_bn\n",
            "194 conv4_block8_1_relu\n",
            "195 conv4_block8_2_conv\n",
            "196 conv4_block8_concat\n",
            "197 conv4_block9_0_bn\n",
            "198 conv4_block9_0_relu\n",
            "199 conv4_block9_1_conv\n",
            "200 conv4_block9_1_bn\n",
            "201 conv4_block9_1_relu\n",
            "202 conv4_block9_2_conv\n",
            "203 conv4_block9_concat\n",
            "204 conv4_block10_0_bn\n",
            "205 conv4_block10_0_relu\n",
            "206 conv4_block10_1_conv\n",
            "207 conv4_block10_1_bn\n",
            "208 conv4_block10_1_relu\n",
            "209 conv4_block10_2_conv\n",
            "210 conv4_block10_concat\n",
            "211 conv4_block11_0_bn\n",
            "212 conv4_block11_0_relu\n",
            "213 conv4_block11_1_conv\n",
            "214 conv4_block11_1_bn\n",
            "215 conv4_block11_1_relu\n",
            "216 conv4_block11_2_conv\n",
            "217 conv4_block11_concat\n",
            "218 conv4_block12_0_bn\n",
            "219 conv4_block12_0_relu\n",
            "220 conv4_block12_1_conv\n",
            "221 conv4_block12_1_bn\n",
            "222 conv4_block12_1_relu\n",
            "223 conv4_block12_2_conv\n",
            "224 conv4_block12_concat\n",
            "225 conv4_block13_0_bn\n",
            "226 conv4_block13_0_relu\n",
            "227 conv4_block13_1_conv\n",
            "228 conv4_block13_1_bn\n",
            "229 conv4_block13_1_relu\n",
            "230 conv4_block13_2_conv\n",
            "231 conv4_block13_concat\n",
            "232 conv4_block14_0_bn\n",
            "233 conv4_block14_0_relu\n",
            "234 conv4_block14_1_conv\n",
            "235 conv4_block14_1_bn\n",
            "236 conv4_block14_1_relu\n",
            "237 conv4_block14_2_conv\n",
            "238 conv4_block14_concat\n",
            "239 conv4_block15_0_bn\n",
            "240 conv4_block15_0_relu\n",
            "241 conv4_block15_1_conv\n",
            "242 conv4_block15_1_bn\n",
            "243 conv4_block15_1_relu\n",
            "244 conv4_block15_2_conv\n",
            "245 conv4_block15_concat\n",
            "246 conv4_block16_0_bn\n",
            "247 conv4_block16_0_relu\n",
            "248 conv4_block16_1_conv\n",
            "249 conv4_block16_1_bn\n",
            "250 conv4_block16_1_relu\n",
            "251 conv4_block16_2_conv\n",
            "252 conv4_block16_concat\n",
            "253 conv4_block17_0_bn\n",
            "254 conv4_block17_0_relu\n",
            "255 conv4_block17_1_conv\n",
            "256 conv4_block17_1_bn\n",
            "257 conv4_block17_1_relu\n",
            "258 conv4_block17_2_conv\n",
            "259 conv4_block17_concat\n",
            "260 conv4_block18_0_bn\n",
            "261 conv4_block18_0_relu\n",
            "262 conv4_block18_1_conv\n",
            "263 conv4_block18_1_bn\n",
            "264 conv4_block18_1_relu\n",
            "265 conv4_block18_2_conv\n",
            "266 conv4_block18_concat\n",
            "267 conv4_block19_0_bn\n",
            "268 conv4_block19_0_relu\n",
            "269 conv4_block19_1_conv\n",
            "270 conv4_block19_1_bn\n",
            "271 conv4_block19_1_relu\n",
            "272 conv4_block19_2_conv\n",
            "273 conv4_block19_concat\n",
            "274 conv4_block20_0_bn\n",
            "275 conv4_block20_0_relu\n",
            "276 conv4_block20_1_conv\n",
            "277 conv4_block20_1_bn\n",
            "278 conv4_block20_1_relu\n",
            "279 conv4_block20_2_conv\n",
            "280 conv4_block20_concat\n",
            "281 conv4_block21_0_bn\n",
            "282 conv4_block21_0_relu\n",
            "283 conv4_block21_1_conv\n",
            "284 conv4_block21_1_bn\n",
            "285 conv4_block21_1_relu\n",
            "286 conv4_block21_2_conv\n",
            "287 conv4_block21_concat\n",
            "288 conv4_block22_0_bn\n",
            "289 conv4_block22_0_relu\n",
            "290 conv4_block22_1_conv\n",
            "291 conv4_block22_1_bn\n",
            "292 conv4_block22_1_relu\n",
            "293 conv4_block22_2_conv\n",
            "294 conv4_block22_concat\n",
            "295 conv4_block23_0_bn\n",
            "296 conv4_block23_0_relu\n",
            "297 conv4_block23_1_conv\n",
            "298 conv4_block23_1_bn\n",
            "299 conv4_block23_1_relu\n",
            "300 conv4_block23_2_conv\n",
            "301 conv4_block23_concat\n",
            "302 conv4_block24_0_bn\n",
            "303 conv4_block24_0_relu\n",
            "304 conv4_block24_1_conv\n",
            "305 conv4_block24_1_bn\n",
            "306 conv4_block24_1_relu\n",
            "307 conv4_block24_2_conv\n",
            "308 conv4_block24_concat\n",
            "309 pool4_bn\n",
            "310 pool4_relu\n",
            "311 pool4_conv\n",
            "312 pool4_pool\n",
            "313 conv5_block1_0_bn\n",
            "314 conv5_block1_0_relu\n",
            "315 conv5_block1_1_conv\n",
            "316 conv5_block1_1_bn\n",
            "317 conv5_block1_1_relu\n",
            "318 conv5_block1_2_conv\n",
            "319 conv5_block1_concat\n",
            "320 conv5_block2_0_bn\n",
            "321 conv5_block2_0_relu\n",
            "322 conv5_block2_1_conv\n",
            "323 conv5_block2_1_bn\n",
            "324 conv5_block2_1_relu\n",
            "325 conv5_block2_2_conv\n",
            "326 conv5_block2_concat\n",
            "327 conv5_block3_0_bn\n",
            "328 conv5_block3_0_relu\n",
            "329 conv5_block3_1_conv\n",
            "330 conv5_block3_1_bn\n",
            "331 conv5_block3_1_relu\n",
            "332 conv5_block3_2_conv\n",
            "333 conv5_block3_concat\n",
            "334 conv5_block4_0_bn\n",
            "335 conv5_block4_0_relu\n",
            "336 conv5_block4_1_conv\n",
            "337 conv5_block4_1_bn\n",
            "338 conv5_block4_1_relu\n",
            "339 conv5_block4_2_conv\n",
            "340 conv5_block4_concat\n",
            "341 conv5_block5_0_bn\n",
            "342 conv5_block5_0_relu\n",
            "343 conv5_block5_1_conv\n",
            "344 conv5_block5_1_bn\n",
            "345 conv5_block5_1_relu\n",
            "346 conv5_block5_2_conv\n",
            "347 conv5_block5_concat\n",
            "348 conv5_block6_0_bn\n",
            "349 conv5_block6_0_relu\n",
            "350 conv5_block6_1_conv\n",
            "351 conv5_block6_1_bn\n",
            "352 conv5_block6_1_relu\n",
            "353 conv5_block6_2_conv\n",
            "354 conv5_block6_concat\n",
            "355 conv5_block7_0_bn\n",
            "356 conv5_block7_0_relu\n",
            "357 conv5_block7_1_conv\n",
            "358 conv5_block7_1_bn\n",
            "359 conv5_block7_1_relu\n",
            "360 conv5_block7_2_conv\n",
            "361 conv5_block7_concat\n",
            "362 conv5_block8_0_bn\n",
            "363 conv5_block8_0_relu\n",
            "364 conv5_block8_1_conv\n",
            "365 conv5_block8_1_bn\n",
            "366 conv5_block8_1_relu\n",
            "367 conv5_block8_2_conv\n",
            "368 conv5_block8_concat\n",
            "369 conv5_block9_0_bn\n",
            "370 conv5_block9_0_relu\n",
            "371 conv5_block9_1_conv\n",
            "372 conv5_block9_1_bn\n",
            "373 conv5_block9_1_relu\n",
            "374 conv5_block9_2_conv\n",
            "375 conv5_block9_concat\n",
            "376 conv5_block10_0_bn\n",
            "377 conv5_block10_0_relu\n",
            "378 conv5_block10_1_conv\n",
            "379 conv5_block10_1_bn\n",
            "380 conv5_block10_1_relu\n",
            "381 conv5_block10_2_conv\n",
            "382 conv5_block10_concat\n",
            "383 conv5_block11_0_bn\n",
            "384 conv5_block11_0_relu\n",
            "385 conv5_block11_1_conv\n",
            "386 conv5_block11_1_bn\n",
            "387 conv5_block11_1_relu\n",
            "388 conv5_block11_2_conv\n",
            "389 conv5_block11_concat\n",
            "390 conv5_block12_0_bn\n",
            "391 conv5_block12_0_relu\n",
            "392 conv5_block12_1_conv\n",
            "393 conv5_block12_1_bn\n",
            "394 conv5_block12_1_relu\n",
            "395 conv5_block12_2_conv\n",
            "396 conv5_block12_concat\n",
            "397 conv5_block13_0_bn\n",
            "398 conv5_block13_0_relu\n",
            "399 conv5_block13_1_conv\n",
            "400 conv5_block13_1_bn\n",
            "401 conv5_block13_1_relu\n",
            "402 conv5_block13_2_conv\n",
            "403 conv5_block13_concat\n",
            "404 conv5_block14_0_bn\n",
            "405 conv5_block14_0_relu\n",
            "406 conv5_block14_1_conv\n",
            "407 conv5_block14_1_bn\n",
            "408 conv5_block14_1_relu\n",
            "409 conv5_block14_2_conv\n",
            "410 conv5_block14_concat\n",
            "411 conv5_block15_0_bn\n",
            "412 conv5_block15_0_relu\n",
            "413 conv5_block15_1_conv\n",
            "414 conv5_block15_1_bn\n",
            "415 conv5_block15_1_relu\n",
            "416 conv5_block15_2_conv\n",
            "417 conv5_block15_concat\n",
            "418 conv5_block16_0_bn\n",
            "419 conv5_block16_0_relu\n",
            "420 conv5_block16_1_conv\n",
            "421 conv5_block16_1_bn\n",
            "422 conv5_block16_1_relu\n",
            "423 conv5_block16_2_conv\n",
            "424 conv5_block16_concat\n",
            "425 bn\n",
            "426 global_average_pooling2d_2\n",
            "427 dense_4\n",
            "428 dense_5\n",
            "429 dense_6\n"
          ],
          "name": "stdout"
        }
      ]
    },
    {
      "metadata": {
        "id": "RlCVMnvpSHFM",
        "colab_type": "code",
        "colab": {}
      },
      "cell_type": "code",
      "source": [
        "# we chose to train the top 3 Dense blocks, i.e. we will freeze\n",
        "# the first 249 layers and unfreeze the rest:\n",
        "for layer in model.layers[:313]:\n",
        "   layer.trainable = False\n",
        "for layer in model.layers[313:]:\n",
        "   layer.trainable = True"
      ],
      "execution_count": 0,
      "outputs": []
    },
    {
      "metadata": {
        "id": "S-ZDA96vSKR1",
        "colab_type": "code",
        "colab": {}
      },
      "cell_type": "code",
      "source": [
        "# we need to recompile the model for these modifications to take effect\n",
        "model.compile(\n",
        "    loss='binary_crossentropy',\n",
        "    optimizer='adam',\n",
        "    metrics=['accuracy'])"
      ],
      "execution_count": 0,
      "outputs": []
    },
    {
      "metadata": {
        "id": "mFyTtRtNSPyf",
        "colab_type": "code",
        "colab": {
          "base_uri": "https://localhost:8080/",
          "height": 407
        },
        "outputId": "f27b5506-8eeb-468d-d8de-a2234830b043"
      },
      "cell_type": "code",
      "source": [
        "# we train our model again\n",
        "model.fit(np.asarray(X_train['img_arr'].tolist()), y_trainHot, epochs=10)\n",
        "\n",
        "#datagen = tf.keras.preprocessing.image.ImageDataGenerator(horizontal_flip=True)\n",
        "\n",
        "#datagen.fit(train_list)\n",
        "#history = model.fit_generator(datagen.flow(train_list, y_trainHot, batch_size=32), steps_per_epoch=100, epochs=30)\n",
        "\n",
        "\n",
        "# list all data in history\n",
        "#print(history.history.keys())\n",
        "\n",
        "\n",
        "# plotting accuracy and loss against epoch count\n",
        "#plt.plot(history.history['precision'])\n",
        "#plt.plot(history.history['recall'])\n",
        "#plt.title('Model Precision vs. Recall')\n",
        "#plt.ylabel('Precision')\n",
        "#plt.xlabel('Loss')\n",
        "#plt.legend(['Precision', 'Recall'], loc='upper left')\n",
        "#plt.show()"
      ],
      "execution_count": 81,
      "outputs": [
        {
          "output_type": "stream",
          "text": [
            "Epoch 1/10\n",
            "2628/2628 [==============================] - 26s 10ms/step - loss: 0.5852 - acc: 0.7359\n",
            "Epoch 2/10\n",
            "2628/2628 [==============================] - 16s 6ms/step - loss: 0.3642 - acc: 0.8436\n",
            "Epoch 3/10\n",
            "2628/2628 [==============================] - 16s 6ms/step - loss: 0.2705 - acc: 0.8900\n",
            "Epoch 4/10\n",
            "2628/2628 [==============================] - 16s 6ms/step - loss: 0.1874 - acc: 0.9285\n",
            "Epoch 5/10\n",
            "2628/2628 [==============================] - 16s 6ms/step - loss: 0.1512 - acc: 0.9437\n",
            "Epoch 6/10\n",
            "2628/2628 [==============================] - 16s 6ms/step - loss: 0.0735 - acc: 0.9768\n",
            "Epoch 7/10\n",
            "2628/2628 [==============================] - 16s 6ms/step - loss: 0.0885 - acc: 0.9707\n",
            "Epoch 8/10\n",
            "2628/2628 [==============================] - 16s 6ms/step - loss: 0.0876 - acc: 0.9669\n",
            "Epoch 9/10\n",
            "2628/2628 [==============================] - 16s 6ms/step - loss: 0.0693 - acc: 0.9756\n",
            "Epoch 10/10\n",
            "2628/2628 [==============================] - 16s 6ms/step - loss: 0.1622 - acc: 0.9456\n"
          ],
          "name": "stdout"
        },
        {
          "output_type": "execute_result",
          "data": {
            "text/plain": [
              "<keras.callbacks.History at 0x7fe93ed26978>"
            ]
          },
          "metadata": {
            "tags": []
          },
          "execution_count": 81
        }
      ]
    },
    {
      "metadata": {
        "id": "vhlF6CbRPjNd",
        "colab_type": "code",
        "colab": {
          "base_uri": "https://localhost:8080/",
          "height": 415
        },
        "outputId": "e5ea0f79-011b-49a8-bc8b-a2b4c645a5c1"
      },
      "cell_type": "code",
      "source": [
        "labels = ['No Finding', 'Pneumonia']\n",
        "\n",
        "#test_x = np.asarray(X_test['img_arr'].tolist())\n",
        "validation = np.asarray(X_validate['img_arr'].tolist()) \n",
        "preds = model.predict(validation)\n",
        "\n",
        "cls_pred = np.argmax(preds, axis=1)\n",
        "print(sklearn.metrics.classification_report(y_validate, cls_pred, target_names=labels))\n",
        "\n",
        "img_shape = (img_size, img_size, 3)\n",
        "\n",
        "#show the images\n",
        "\n",
        "def plot_images(images, cls_true, cls_pred=None):\n",
        "    assert len(images) == len(cls_true) == 9\n",
        "    \n",
        "    # Create figure with 3x3 sub-plots.\n",
        "    fig, axes = plt.subplots(3, 3)\n",
        "    fig.subplots_adjust(hspace=0.5, wspace=0.3)\n",
        "\n",
        "    for i, ax in enumerate(axes.flat):\n",
        "        # Plot image.\n",
        "        ax.imshow(images[i].reshape(img_shape), cmap='binary')\n",
        "\n",
        "        # Show true and predicted classes.\n",
        "        if cls_pred is None:\n",
        "            xlabel = \"True: {0}\".format(labels[cls_true[i]-1])\n",
        "        else:\n",
        "            xlabel = \"True: {0},\\nPred: {1}\".format(labels[cls_true[i]-1],\n",
        "                                                    labels[cls_pred[i]-1])\n",
        "\n",
        "        # Show the classes as the label on the x-axis.\n",
        "        ax.set_xlabel(xlabel)\n",
        "        \n",
        "        # Remove ticks from the plot.\n",
        "        ax.set_xticks([])\n",
        "        ax.set_yticks([])\n",
        "    \n",
        "    # Ensure the plot is shown correctly with multiple plots\n",
        "    # in a single Notebook cell.\n",
        "    plt.show()\n",
        "      \n",
        "\n",
        "plot_images(validation[0:9], np.argmax(y_validateHot[0:9], axis=1), cls_pred[0:9])\n",
        "\n",
        "print(\"acc: %.02f\" % sklearn.metrics.accuracy_score(y_validate, cls_pred))"
      ],
      "execution_count": 82,
      "outputs": [
        {
          "output_type": "stream",
          "text": [
            "             precision    recall  f1-score   support\n",
            "\n",
            " No Finding       0.82      0.26      0.39       671\n",
            "  Pneumonia       0.25      0.82      0.39       205\n",
            "\n",
            "avg / total       0.69      0.39      0.39       876\n",
            "\n"
          ],
          "name": "stdout"
        },
        {
          "output_type": "display_data",
          "data": {
            "image/png": "[encoded data removed]",
            "text/plain": [
              "<matplotlib.figure.Figure at 0x7fe93b9f1d30>"
            ]
          },
          "metadata": {
            "tags": []
          }
        },
        {
          "output_type": "stream",
          "text": [
            "acc: 0.39\n"
          ],
          "name": "stdout"
        }
      ]
    },
    {
      "metadata": {
        "id": "rLOnX4rjHCBz",
        "colab_type": "code",
        "colab": {
          "base_uri": "https://localhost:8080/",
          "height": 329
        },
        "outputId": "762b73d1-97a6-45b8-a62c-418bf7cc5989"
      },
      "cell_type": "code",
      "source": [
        "from sklearn.metrics import average_precision_score\n",
        "from sklearn.metrics import precision_recall_curve\n",
        "import matplotlib.pyplot as plt\n",
        "from sklearn.utils.fixes import signature\n",
        "\n",
        "average_precision = average_precision_score(y_validate, cls_pred)\n",
        "\n",
        "print('Average precision-recall score: {0:0.2f}'.format(\n",
        "      average_precision))\n",
        "\n",
        "precision, recall, _ = precision_recall_curve(y_validate, cls_pred)\n",
        "\n",
        "# In matplotlib < 1.5, plt.fill_between does not have a 'step' argument\n",
        "step_kwargs = ({'step': 'post'}\n",
        "               if 'step' in signature(plt.fill_between).parameters\n",
        "               else {})\n",
        "plt.step(recall, precision, color='b', alpha=0.2,\n",
        "         where='post')\n",
        "plt.fill_between(recall, precision, alpha=0.2, color='b', **step_kwargs)\n",
        "\n",
        "plt.xlabel('Recall')\n",
        "plt.ylabel('Precision')\n",
        "plt.ylim([0.0, 1.05])\n",
        "plt.xlim([0.0, 1.0])\n",
        "plt.title('2-class Precision-Recall curve: AP={0:0.2f}'.format(\n",
        "          average_precision))"
      ],
      "execution_count": 83,
      "outputs": [
        {
          "output_type": "stream",
          "text": [
            "Average precision-recall score: 0.25\n"
          ],
          "name": "stdout"
        },
        {
          "output_type": "execute_result",
          "data": {
            "text/plain": [
              "Text(0.5,1,'2-class Precision-Recall curve: AP=0.25')"
            ]
          },
          "metadata": {
            "tags": []
          },
          "execution_count": 83
        },
        {
          "output_type": "display_data",
          "data": {
            "image/png": "[encoded data removed]",
            "text/plain": [
              "<matplotlib.figure.Figure at 0x7fe93eccfcc0>"
            ]
          },
          "metadata": {
            "tags": []
          }
        }
      ]
    },
    {
      "metadata": {
        "id": "NXNKnvKy5FJm",
        "colab_type": "code",
        "colab": {}
      },
      "cell_type": "code",
      "source": [
        "feature_layer = Model(inputs=model.input, outputs=model.get_layer(index=428).output)\n",
        "\n",
        "pool_features_train = feature_layer.predict(np.asarray(X_train['img_arr'].tolist()))\n",
        "\n",
        "pool_features_test = feature_layer.predict(np.asarray(X_test['img_arr'].tolist()))"
      ],
      "execution_count": 0,
      "outputs": []
    },
    {
      "metadata": {
        "id": "_vLBTgwAfKNL",
        "colab_type": "code",
        "colab": {}
      },
      "cell_type": "code",
      "source": [
        "pool_features_validate = feature_layer.predict(np.asarray(X_validate['img_arr'].tolist()))"
      ],
      "execution_count": 0,
      "outputs": []
    },
    {
      "metadata": {
        "id": "ZkHhT2Vh5-Jq",
        "colab_type": "code",
        "colab": {
          "base_uri": "https://localhost:8080/",
          "height": 70
        },
        "outputId": "1fa49dce-e787-44e9-9c9c-6219feec153e"
      },
      "cell_type": "code",
      "source": [
        "print(pool_features_train.shape)\n",
        "print(pool_features_test.shape)\n",
        "print(pool_features_validate.shape)"
      ],
      "execution_count": 86,
      "outputs": [
        {
          "output_type": "stream",
          "text": [
            "(2628, 8)\n",
            "(25596, 8)\n",
            "(876, 8)\n"
          ],
          "name": "stdout"
        }
      ]
    },
    {
      "metadata": {
        "id": "brE4rbDA_xI0",
        "colab_type": "code",
        "colab": {}
      },
      "cell_type": "code",
      "source": [
        "pool_features_train = pd.DataFrame(pool_features_train)\n",
        "pool_features_test = pd.DataFrame(pool_features_test)\n",
        "pool_features_validate = pd.DataFrame(pool_features_validate)"
      ],
      "execution_count": 0,
      "outputs": []
    },
    {
      "metadata": {
        "id": "vGPh1RET-tEt",
        "colab_type": "code",
        "colab": {}
      },
      "cell_type": "code",
      "source": [
        "X_train = X_train.drop(['img_arr'], axis=1)\n",
        "X_test = X_test.drop(['img_arr'], axis=1)\n",
        "X_validate = X_validate.drop(['img_arr'], axis=1)"
      ],
      "execution_count": 0,
      "outputs": []
    },
    {
      "metadata": {
        "id": "pAbqMBJr_mI-",
        "colab_type": "code",
        "colab": {}
      },
      "cell_type": "code",
      "source": [
        "X_train_log = pd.concat([X_train.reset_index(drop=True), pool_features_train], axis=1)\n",
        "X_test_log = pd.concat([X_test.reset_index(drop=True), pool_features_test], axis=1)\n",
        "X_validate_log = pd.concat([X_validate.reset_index(drop=True), pool_features_validate], axis=1)"
      ],
      "execution_count": 0,
      "outputs": []
    },
    {
      "metadata": {
        "id": "nO3J9KyQlo1r",
        "colab_type": "code",
        "colab": {
          "base_uri": "https://localhost:8080/",
          "height": 1548
        },
        "outputId": "8f5ab786-9bde-4f01-fac1-c5574d2516be"
      },
      "cell_type": "code",
      "source": [
        "print(X_train_log.head())\n",
        "print(X_test_log.head())\n",
        "print(X_validate_log.head())"
      ],
      "execution_count": 90,
      "outputs": [
        {
          "output_type": "stream",
          "text": [
            "   Patient Gender  Atelectasis  Consolidation  Infiltration  Pneumothorax  \\\n",
            "0               1            0              0             0             0   \n",
            "1               1            0              0             0             0   \n",
            "2               1            0              0             0             0   \n",
            "3               1            0              0             0             0   \n",
            "4               0            0              0             0             0   \n",
            "\n",
            "   Edema  Emphysema  Fibrosis  Effusion  Nodule ...   Patient Age  \\\n",
            "0      0          0         0         0       0 ...            47   \n",
            "1      0          0         0         0       0 ...            27   \n",
            "2      0          0         0         0       0 ...            56   \n",
            "3      0          0         0         0       0 ...            11   \n",
            "4      0          0         0         0       0 ...            27   \n",
            "\n",
            "   Follow-up #          0    1          2          3          4          5  \\\n",
            "0            0   0.000000  0.0  14.868183   0.000000  11.013826  14.706357   \n",
            "1            2   0.000000  0.0   9.641262   0.000000   5.348066  15.631490   \n",
            "2            1   0.000000  0.0   3.379965  12.280864  23.052731   2.288368   \n",
            "3            0   2.750779  0.0  10.767385   0.000000   8.349761   6.244518   \n",
            "4            0  44.339878  0.0  29.177784   0.000000   0.000000   2.657041   \n",
            "\n",
            "     6    7  \n",
            "0  0.0  0.0  \n",
            "1  0.0  0.0  \n",
            "2  0.0  0.0  \n",
            "3  0.0  0.0  \n",
            "4  0.0  0.0  \n",
            "\n",
            "[5 rows x 25 columns]\n",
            "   Patient Gender  Atelectasis  Consolidation  Infiltration  Pneumothorax  \\\n",
            "0               1            0              0             0             0   \n",
            "1               0            0              0             1             0   \n",
            "2               1            0              0             0             1   \n",
            "3               0            0              0             0             0   \n",
            "4               1            0              0             0             0   \n",
            "\n",
            "   Edema  Emphysema  Fibrosis  Effusion  Nodule ...   Patient Age  \\\n",
            "0      0          0         0         0       0 ...            66   \n",
            "1      0          0         0         0       0 ...            21   \n",
            "2      0          0         0         0       0 ...            16   \n",
            "3      0          1         0         0       0 ...            34   \n",
            "4      0          0         0         0       0 ...            33   \n",
            "\n",
            "   Follow-up #          0    1          2    3          4          5  \\\n",
            "0           77  23.034573  0.0  11.774854  0.0   0.000000   1.327736   \n",
            "1           12   0.000000  0.0   8.899409  0.0   8.656530  18.911810   \n",
            "2           32  29.917309  0.0  24.937920  0.0   4.836045   0.000000   \n",
            "3           10  17.530998  0.0  13.383510  0.0   0.000000   5.599195   \n",
            "4          132   0.000000  0.0   3.036218  0.0  14.457244  25.897421   \n",
            "\n",
            "           6    7  \n",
            "0  10.565106  0.0  \n",
            "1   0.000000  0.0  \n",
            "2   0.000000  0.0  \n",
            "3   0.000000  0.0  \n",
            "4   0.000000  0.0  \n",
            "\n",
            "[5 rows x 25 columns]\n",
            "   Patient Gender  Atelectasis  Consolidation  Infiltration  Pneumothorax  \\\n",
            "0               1            0              0             0             0   \n",
            "1               1            0              1             0             0   \n",
            "2               1            0              0             1             0   \n",
            "3               1            0              0             0             0   \n",
            "4               0            0              0             1             0   \n",
            "\n",
            "   Edema  Emphysema  Fibrosis  Effusion  Nodule   ...     Patient Age  \\\n",
            "0      0          0         0         0       0   ...              54   \n",
            "1      0          0         0         0       0   ...              13   \n",
            "2      0          0         0         0       0   ...              69   \n",
            "3      0          0         0         0       0   ...              57   \n",
            "4      0          0         0         1       0   ...              90   \n",
            "\n",
            "   Follow-up #          0    1          2    3          4          5  \\\n",
            "0            6  10.279343  0.0  21.647455  0.0   3.053653  11.108180   \n",
            "1            8  43.198410  0.0  20.763819  0.0   0.000000   5.234925   \n",
            "2            2  42.383877  0.0  16.784258  0.0   0.000000  11.799804   \n",
            "3            4  49.606720  0.0  18.499533  0.0   0.000000  22.208986   \n",
            "4            9   0.000000  0.0   8.490854  0.0  19.670927  28.910860   \n",
            "\n",
            "           6        7  \n",
            "0  26.505402  9.42986  \n",
            "1   0.000000  0.00000  \n",
            "2   2.398747  0.00000  \n",
            "3   0.000000  0.00000  \n",
            "4   0.000000  0.00000  \n",
            "\n",
            "[5 rows x 25 columns]\n"
          ],
          "name": "stdout"
        }
      ]
    },
    {
      "metadata": {
        "id": "bX3RWh40GJJ7",
        "colab_type": "code",
        "colab": {}
      },
      "cell_type": "code",
      "source": [
        "y_train_log = y_train\n",
        "y_test_log = y_test\n",
        "y_validate_log = y_validate"
      ],
      "execution_count": 0,
      "outputs": []
    },
    {
      "metadata": {
        "id": "iZY4JfP_A1kp",
        "colab_type": "code",
        "colab": {}
      },
      "cell_type": "code",
      "source": [
        "X_train_log = X_train_log.drop(['Image Index'], axis=1)\n",
        "X_test_log = X_test_log.drop(['Image Index'], axis=1)\n",
        "X_validate_log = X_validate_log.drop(['Image Index'], axis=1)"
      ],
      "execution_count": 0,
      "outputs": []
    },
    {
      "metadata": {
        "id": "ODBoK-XF3tgX",
        "colab_type": "code",
        "colab": {
          "base_uri": "https://localhost:8080/",
          "height": 945
        },
        "outputId": "1a183899-c09e-4ad9-9067-61feccae07b7"
      },
      "cell_type": "code",
      "source": [
        "def test_model(model):\n",
        "  model.fit(X_train_log, y_train_log)\n",
        "  y_predict = model.predict(X_validate_log)\n",
        "  print(\"%s: %f\" % (str(model), metrics.accuracy_score(y_validate_log, y_predict)))\n",
        "  print(metrics.classification_report(y_validate_log, y_predict))\n",
        "  y_predict_proba = model.predict_proba(X_validate_log)\n",
        "  \n",
        "  fpr, tpr, _ = metrics.roc_curve(y_validate_log, y_predict_proba[:,1])\n",
        "  roc_auc = metrics.auc(fpr, tpr)\n",
        "  \n",
        "  plt.figure()\n",
        "  lw = 2\n",
        "  plt.plot(fpr, tpr, color='darkorange',\n",
        "           lw=lw, label='ROC curve (area = %0.2f)' % roc_auc)\n",
        "  plt.plot([0, 1], [0, 1], color='navy', lw=lw, linestyle='--')\n",
        "  plt.xlim([0.0, 1.0])\n",
        "  plt.ylim([0.0, 1.05])\n",
        "  plt.xlabel('False Positive Rate')\n",
        "  plt.ylabel('True Positive Rate')\n",
        "  plt.title('Receiver operating characteristic example')\n",
        "  plt.legend(loc=\"lower right\")\n",
        "  plt.show()\n",
        "  \n",
        "  print(\"acc: %.02f\" % sklearn.metrics.accuracy_score(y_validate_log, np.argmax(y_predict_proba, axis=1)))\n",
        "    \n",
        "  \n",
        "  coefficients = pd.DataFrame({\"Coefficients\":np.transpose(model.coef_[0, ]), \"Feature\":X_train_log.columns})\n",
        "  print(coefficients)\n",
        "  \n",
        "test_model(LogisticRegression())"
      ],
      "execution_count": 93,
      "outputs": [
        {
          "output_type": "stream",
          "text": [
            "LogisticRegression(C=1.0, class_weight=None, dual=False, fit_intercept=True,\n",
            "          intercept_scaling=1, max_iter=100, multi_class='ovr', n_jobs=1,\n",
            "          penalty='l2', random_state=None, solver='liblinear', tol=0.0001,\n",
            "          verbose=0, warm_start=False): 0.776256\n",
            "             precision    recall  f1-score   support\n",
            "\n",
            "          0       0.80      0.94      0.87       671\n",
            "          1       0.55      0.24      0.34       205\n",
            "\n",
            "avg / total       0.74      0.78      0.74       876\n",
            "\n"
          ],
          "name": "stdout"
        },
        {
          "output_type": "display_data",
          "data": {
            "image/png": "[encoded data removed]",
            "text/plain": [
              "<matplotlib.figure.Figure at 0x7fe9478adcf8>"
            ]
          },
          "metadata": {
            "tags": []
          }
        },
        {
          "output_type": "stream",
          "text": [
            "acc: 0.78\n",
            "    Coefficients             Feature\n",
            "0       0.081841      Patient Gender\n",
            "1       0.918872         Atelectasis\n",
            "2       0.352090       Consolidation\n",
            "3       0.909561        Infiltration\n",
            "4      -0.931607        Pneumothorax\n",
            "5       2.530750               Edema\n",
            "6       0.296475           Emphysema\n",
            "7      -0.816532            Fibrosis\n",
            "8       0.343754            Effusion\n",
            "9      -0.205340              Nodule\n",
            "10      0.014316  Pleural_Thickening\n",
            "11      0.208644        Cardiomegaly\n",
            "12      0.216167                Mass\n",
            "13     -0.631311              Hernia\n",
            "14     -0.006842         Patient Age\n",
            "15      0.015852         Follow-up #\n",
            "16     -0.005406                   0\n",
            "17      0.000000                   1\n",
            "18     -0.007504                   2\n",
            "19      0.028316                   3\n",
            "20      0.008870                   4\n",
            "21      0.003410                   5\n",
            "22      0.000296                   6\n",
            "23     -0.182622                   7\n"
          ],
          "name": "stdout"
        }
      ]
    },
    {
      "metadata": {
        "id": "M4QbmTHS7DyC",
        "colab_type": "code",
        "colab": {
          "base_uri": "https://localhost:8080/",
          "height": 487
        },
        "outputId": "3b5f3021-499b-4546-e001-42d6644e0d9b"
      },
      "cell_type": "code",
      "source": [
        "model = tf.keras.models.Sequential()\n",
        "\n",
        "model.add(tf.keras.layers.Conv2D(filters=8, kernel_size=3, padding='same', activation='relu', input_shape=input_shape))\n",
        "model.add(tf.keras.layers.MaxPooling2D(pool_size=2))\n",
        "model.add(tf.keras.layers.Dropout(0.25))\n",
        "\n",
        "model.add(tf.keras.layers.Flatten())\n",
        "model.add(tf.keras.layers.Dense(128, activation='relu'))\n",
        "model.add(tf.keras.layers.Dropout(0.5))\n",
        "model.add(tf.keras.layers.Dense(2, activation='softmax'))\n",
        "\n",
        "\n",
        "\n",
        "model.compile(loss='categorical_crossentropy',\n",
        "              optimizer='adam',\n",
        "              metrics=['accuracy'])\n",
        "\n",
        "\n",
        "#model.fit(X_train, y_trainHot, epochs=5)\n",
        "\n",
        "# define the rotations, shifts and flips of the image data\n",
        "datagen = tf.keras.preprocessing.image.ImageDataGenerator(rotation_range=10,\n",
        "                                                          height_shift_range=0.1,\n",
        "                                                          width_shift_range=0.1,\n",
        "                                                          horizontal_flip=True)\n",
        "\n",
        "datagen.fit(X_train)\n",
        "model.fit_generator(datagen.flow(X_train, y_trainHot, batch_size=32), steps_per_epoch=10, epochs=5,workers=1)"
      ],
      "execution_count": 94,
      "outputs": [
        {
          "output_type": "error",
          "ename": "ValueError",
          "evalue": "ignored",
          "traceback": [
            "\u001b[0;31m---------------------------------------------------------------------------\u001b[0m",
            "\u001b[0;31mValueError\u001b[0m                                Traceback (most recent call last)",
            "\u001b[0;32m<ipython-input-94-29f8f410d3dd>\u001b[0m in \u001b[0;36m<module>\u001b[0;34m()\u001b[0m\n\u001b[1;32m     25\u001b[0m                                                           horizontal_flip=True)\n\u001b[1;32m     26\u001b[0m \u001b[0;34m\u001b[0m\u001b[0m\n\u001b[0;32m---> 27\u001b[0;31m \u001b[0mdatagen\u001b[0m\u001b[0;34m.\u001b[0m\u001b[0mfit\u001b[0m\u001b[0;34m(\u001b[0m\u001b[0mX_train\u001b[0m\u001b[0;34m)\u001b[0m\u001b[0;34m\u001b[0m\u001b[0m\n\u001b[0m\u001b[1;32m     28\u001b[0m \u001b[0mmodel\u001b[0m\u001b[0;34m.\u001b[0m\u001b[0mfit_generator\u001b[0m\u001b[0;34m(\u001b[0m\u001b[0mdatagen\u001b[0m\u001b[0;34m.\u001b[0m\u001b[0mflow\u001b[0m\u001b[0;34m(\u001b[0m\u001b[0mX_train\u001b[0m\u001b[0;34m,\u001b[0m \u001b[0my_trainHot\u001b[0m\u001b[0;34m,\u001b[0m \u001b[0mbatch_size\u001b[0m\u001b[0;34m=\u001b[0m\u001b[0;36m32\u001b[0m\u001b[0;34m)\u001b[0m\u001b[0;34m,\u001b[0m \u001b[0msteps_per_epoch\u001b[0m\u001b[0;34m=\u001b[0m\u001b[0;36m10\u001b[0m\u001b[0;34m,\u001b[0m \u001b[0mepochs\u001b[0m\u001b[0;34m=\u001b[0m\u001b[0;36m5\u001b[0m\u001b[0;34m,\u001b[0m\u001b[0mworkers\u001b[0m\u001b[0;34m=\u001b[0m\u001b[0;36m1\u001b[0m\u001b[0;34m)\u001b[0m\u001b[0;34m\u001b[0m\u001b[0m\n",
            "\u001b[0;32m/usr/local/lib/python3.6/dist-packages/keras_preprocessing/image.py\u001b[0m in \u001b[0;36mfit\u001b[0;34m(self, x, augment, rounds, seed)\u001b[0m\n\u001b[1;32m   1342\u001b[0m             \u001b[0mseed\u001b[0m\u001b[0;34m:\u001b[0m \u001b[0mInt\u001b[0m \u001b[0;34m(\u001b[0m\u001b[0mdefault\u001b[0m\u001b[0;34m:\u001b[0m \u001b[0;32mNone\u001b[0m\u001b[0;34m)\u001b[0m\u001b[0;34m.\u001b[0m \u001b[0mRandom\u001b[0m \u001b[0mseed\u001b[0m\u001b[0;34m.\u001b[0m\u001b[0;34m\u001b[0m\u001b[0m\n\u001b[1;32m   1343\u001b[0m        \"\"\"\n\u001b[0;32m-> 1344\u001b[0;31m         \u001b[0mx\u001b[0m \u001b[0;34m=\u001b[0m \u001b[0mnp\u001b[0m\u001b[0;34m.\u001b[0m\u001b[0masarray\u001b[0m\u001b[0;34m(\u001b[0m\u001b[0mx\u001b[0m\u001b[0;34m,\u001b[0m \u001b[0mdtype\u001b[0m\u001b[0;34m=\u001b[0m\u001b[0mself\u001b[0m\u001b[0;34m.\u001b[0m\u001b[0mdtype\u001b[0m\u001b[0;34m)\u001b[0m\u001b[0;34m\u001b[0m\u001b[0m\n\u001b[0m\u001b[1;32m   1345\u001b[0m         \u001b[0;32mif\u001b[0m \u001b[0mx\u001b[0m\u001b[0;34m.\u001b[0m\u001b[0mndim\u001b[0m \u001b[0;34m!=\u001b[0m \u001b[0;36m4\u001b[0m\u001b[0;34m:\u001b[0m\u001b[0;34m\u001b[0m\u001b[0m\n\u001b[1;32m   1346\u001b[0m             raise ValueError('Input to `.fit()` should have rank 4. '\n",
            "\u001b[0;32m/usr/local/lib/python3.6/dist-packages/numpy/core/numeric.py\u001b[0m in \u001b[0;36masarray\u001b[0;34m(a, dtype, order)\u001b[0m\n\u001b[1;32m    490\u001b[0m \u001b[0;34m\u001b[0m\u001b[0m\n\u001b[1;32m    491\u001b[0m     \"\"\"\n\u001b[0;32m--> 492\u001b[0;31m     \u001b[0;32mreturn\u001b[0m \u001b[0marray\u001b[0m\u001b[0;34m(\u001b[0m\u001b[0ma\u001b[0m\u001b[0;34m,\u001b[0m \u001b[0mdtype\u001b[0m\u001b[0;34m,\u001b[0m \u001b[0mcopy\u001b[0m\u001b[0;34m=\u001b[0m\u001b[0;32mFalse\u001b[0m\u001b[0;34m,\u001b[0m \u001b[0morder\u001b[0m\u001b[0;34m=\u001b[0m\u001b[0morder\u001b[0m\u001b[0;34m)\u001b[0m\u001b[0;34m\u001b[0m\u001b[0m\n\u001b[0m\u001b[1;32m    493\u001b[0m \u001b[0;34m\u001b[0m\u001b[0m\n\u001b[1;32m    494\u001b[0m \u001b[0;34m\u001b[0m\u001b[0m\n",
            "\u001b[0;31mValueError\u001b[0m: could not convert string to float: '00007301_002.png'"
          ]
        }
      ]
    },
    {
      "metadata": {
        "id": "1OtDE3Jn53Vz",
        "colab_type": "code",
        "colab": {
          "base_uri": "https://localhost:8080/",
          "height": 731
        },
        "outputId": "eacf288b-6b5a-4463-bab9-5f0ae954dc8f"
      },
      "cell_type": "code",
      "source": [
        "# fix this!!!\n",
        "\n",
        "model = tf.keras.models.Sequential()\n",
        "\n",
        "\n",
        "model.add(tf.keras.layers.Conv2D(filters=32, kernel_size=3, padding='same', activation='relu', input_shape=input_shape))\n",
        "model.add(tf.keras.layers.Conv2D(filters=64, kernel_size=3, padding='same', activation='relu', input_shape=input_shape))\n",
        "model.add(tf.keras.layers.MaxPooling2D(pool_size=2))\n",
        "model.add(tf.keras.layers.Dropout(0.25))\n",
        "\n",
        "\n",
        "model.add(tf.keras.layers.Flatten())\n",
        "model.add(tf.keras.layers.Dense(128, activation='relu'))\n",
        "model.add(tf.keras.layers.Dropout(0.5))\n",
        "model.add(tf.keras.layers.Dense(2, activation='softmax'))\n",
        "\n",
        "\n",
        "\n",
        "model.compile(loss='categorical_crossentropy',\n",
        "              optimizer='adam',\n",
        "              metrics=['accuracy'])\n",
        "\n",
        "\n",
        "datagen = tf.keras.preprocessing.image.ImageDataGenerator()\n",
        "datagen.fit(X_train)\n",
        "history = model.fit_generator(datagen.flow(X_train, y_trainHot, batch_size=32), epochs=10)\n",
        "\n",
        "\n",
        "# list all data in history\n",
        "print(history.history.keys())\n",
        "\n",
        "\n",
        "# plotting accuracy and loss against epoch count\n",
        "plt.plot(history.history['acc'])\n",
        "plt.plot(history.history['loss'])\n",
        "plt.title('Model Accuracy and Loss')\n",
        "plt.ylabel('Y')\n",
        "plt.xlabel('Epoch')\n",
        "plt.legend(['Loss', 'Accuracy'], loc='upper right')\n",
        "plt.show()"
      ],
      "execution_count": 11,
      "outputs": [
        {
          "output_type": "error",
          "ename": "ValueError",
          "evalue": "ignored",
          "traceback": [
            "\u001b[0;31m---------------------------------------------------------------------------\u001b[0m",
            "\u001b[0;31mValueError\u001b[0m                                Traceback (most recent call last)",
            "\u001b[0;32m<ipython-input-11-22cd8df5865e>\u001b[0m in \u001b[0;36m<module>\u001b[0;34m()\u001b[0m\n\u001b[1;32m      3\u001b[0m \u001b[0;34m\u001b[0m\u001b[0m\n\u001b[1;32m      4\u001b[0m \u001b[0;34m\u001b[0m\u001b[0m\n\u001b[0;32m----> 5\u001b[0;31m \u001b[0mmodel\u001b[0m\u001b[0;34m.\u001b[0m\u001b[0madd\u001b[0m\u001b[0;34m(\u001b[0m\u001b[0mtf\u001b[0m\u001b[0;34m.\u001b[0m\u001b[0mkeras\u001b[0m\u001b[0;34m.\u001b[0m\u001b[0mlayers\u001b[0m\u001b[0;34m.\u001b[0m\u001b[0mConv2D\u001b[0m\u001b[0;34m(\u001b[0m\u001b[0mfilters\u001b[0m\u001b[0;34m=\u001b[0m\u001b[0;36m32\u001b[0m\u001b[0;34m,\u001b[0m \u001b[0mkernel_size\u001b[0m\u001b[0;34m=\u001b[0m\u001b[0;36m3\u001b[0m\u001b[0;34m,\u001b[0m \u001b[0mpadding\u001b[0m\u001b[0;34m=\u001b[0m\u001b[0;34m'same'\u001b[0m\u001b[0;34m,\u001b[0m \u001b[0mactivation\u001b[0m\u001b[0;34m=\u001b[0m\u001b[0;34m'relu'\u001b[0m\u001b[0;34m,\u001b[0m \u001b[0minput_shape\u001b[0m\u001b[0;34m=\u001b[0m\u001b[0minput_shape\u001b[0m\u001b[0;34m)\u001b[0m\u001b[0;34m)\u001b[0m\u001b[0;34m\u001b[0m\u001b[0m\n\u001b[0m\u001b[1;32m      6\u001b[0m \u001b[0mmodel\u001b[0m\u001b[0;34m.\u001b[0m\u001b[0madd\u001b[0m\u001b[0;34m(\u001b[0m\u001b[0mtf\u001b[0m\u001b[0;34m.\u001b[0m\u001b[0mkeras\u001b[0m\u001b[0;34m.\u001b[0m\u001b[0mlayers\u001b[0m\u001b[0;34m.\u001b[0m\u001b[0mConv2D\u001b[0m\u001b[0;34m(\u001b[0m\u001b[0mfilters\u001b[0m\u001b[0;34m=\u001b[0m\u001b[0;36m64\u001b[0m\u001b[0;34m,\u001b[0m \u001b[0mkernel_size\u001b[0m\u001b[0;34m=\u001b[0m\u001b[0;36m3\u001b[0m\u001b[0;34m,\u001b[0m \u001b[0mpadding\u001b[0m\u001b[0;34m=\u001b[0m\u001b[0;34m'same'\u001b[0m\u001b[0;34m,\u001b[0m \u001b[0mactivation\u001b[0m\u001b[0;34m=\u001b[0m\u001b[0;34m'relu'\u001b[0m\u001b[0;34m,\u001b[0m \u001b[0minput_shape\u001b[0m\u001b[0;34m=\u001b[0m\u001b[0minput_shape\u001b[0m\u001b[0;34m)\u001b[0m\u001b[0;34m)\u001b[0m\u001b[0;34m\u001b[0m\u001b[0m\n\u001b[1;32m      7\u001b[0m \u001b[0mmodel\u001b[0m\u001b[0;34m.\u001b[0m\u001b[0madd\u001b[0m\u001b[0;34m(\u001b[0m\u001b[0mtf\u001b[0m\u001b[0;34m.\u001b[0m\u001b[0mkeras\u001b[0m\u001b[0;34m.\u001b[0m\u001b[0mlayers\u001b[0m\u001b[0;34m.\u001b[0m\u001b[0mMaxPooling2D\u001b[0m\u001b[0;34m(\u001b[0m\u001b[0mpool_size\u001b[0m\u001b[0;34m=\u001b[0m\u001b[0;36m2\u001b[0m\u001b[0;34m)\u001b[0m\u001b[0;34m)\u001b[0m\u001b[0;34m\u001b[0m\u001b[0m\n",
            "\u001b[0;32m/usr/local/lib/python3.6/dist-packages/tensorflow/python/training/checkpointable/base.py\u001b[0m in \u001b[0;36m_method_wrapper\u001b[0;34m(self, *args, **kwargs)\u001b[0m\n\u001b[1;32m    362\u001b[0m     \u001b[0mself\u001b[0m\u001b[0;34m.\u001b[0m\u001b[0m_setattr_tracking\u001b[0m \u001b[0;34m=\u001b[0m \u001b[0;32mFalse\u001b[0m  \u001b[0;31m# pylint: disable=protected-access\u001b[0m\u001b[0;34m\u001b[0m\u001b[0m\n\u001b[1;32m    363\u001b[0m     \u001b[0;32mtry\u001b[0m\u001b[0;34m:\u001b[0m\u001b[0;34m\u001b[0m\u001b[0m\n\u001b[0;32m--> 364\u001b[0;31m       \u001b[0mmethod\u001b[0m\u001b[0;34m(\u001b[0m\u001b[0mself\u001b[0m\u001b[0;34m,\u001b[0m \u001b[0;34m*\u001b[0m\u001b[0margs\u001b[0m\u001b[0;34m,\u001b[0m \u001b[0;34m**\u001b[0m\u001b[0mkwargs\u001b[0m\u001b[0;34m)\u001b[0m\u001b[0;34m\u001b[0m\u001b[0m\n\u001b[0m\u001b[1;32m    365\u001b[0m     \u001b[0;32mfinally\u001b[0m\u001b[0;34m:\u001b[0m\u001b[0;34m\u001b[0m\u001b[0m\n\u001b[1;32m    366\u001b[0m       \u001b[0mself\u001b[0m\u001b[0;34m.\u001b[0m\u001b[0m_setattr_tracking\u001b[0m \u001b[0;34m=\u001b[0m \u001b[0mprevious_value\u001b[0m  \u001b[0;31m# pylint: disable=protected-access\u001b[0m\u001b[0;34m\u001b[0m\u001b[0m\n",
            "\u001b[0;32m/usr/local/lib/python3.6/dist-packages/tensorflow/python/keras/engine/sequential.py\u001b[0m in \u001b[0;36madd\u001b[0;34m(self, layer)\u001b[0m\n\u001b[1;32m    161\u001b[0m           \u001b[0;31m# and create the node connecting the current layer\u001b[0m\u001b[0;34m\u001b[0m\u001b[0;34m\u001b[0m\u001b[0m\n\u001b[1;32m    162\u001b[0m           \u001b[0;31m# to the input layer we just created.\u001b[0m\u001b[0;34m\u001b[0m\u001b[0;34m\u001b[0m\u001b[0m\n\u001b[0;32m--> 163\u001b[0;31m           \u001b[0mlayer\u001b[0m\u001b[0;34m(\u001b[0m\u001b[0mx\u001b[0m\u001b[0;34m)\u001b[0m\u001b[0;34m\u001b[0m\u001b[0m\n\u001b[0m\u001b[1;32m    164\u001b[0m           \u001b[0mset_inputs\u001b[0m \u001b[0;34m=\u001b[0m \u001b[0;32mTrue\u001b[0m\u001b[0;34m\u001b[0m\u001b[0m\n\u001b[1;32m    165\u001b[0m         \u001b[0;32melse\u001b[0m\u001b[0;34m:\u001b[0m\u001b[0;34m\u001b[0m\u001b[0m\n",
            "\u001b[0;32m/usr/local/lib/python3.6/dist-packages/tensorflow/python/keras/engine/base_layer.py\u001b[0m in \u001b[0;36m__call__\u001b[0;34m(self, inputs, *args, **kwargs)\u001b[0m\n\u001b[1;32m    718\u001b[0m \u001b[0;34m\u001b[0m\u001b[0m\n\u001b[1;32m    719\u001b[0m         \u001b[0;31m# Check input assumptions set before layer building, e.g. input rank.\u001b[0m\u001b[0;34m\u001b[0m\u001b[0;34m\u001b[0m\u001b[0m\n\u001b[0;32m--> 720\u001b[0;31m         \u001b[0mself\u001b[0m\u001b[0;34m.\u001b[0m\u001b[0m_assert_input_compatibility\u001b[0m\u001b[0;34m(\u001b[0m\u001b[0minputs\u001b[0m\u001b[0;34m)\u001b[0m\u001b[0;34m\u001b[0m\u001b[0m\n\u001b[0m\u001b[1;32m    721\u001b[0m         \u001b[0;32mif\u001b[0m \u001b[0minput_list\u001b[0m \u001b[0;32mand\u001b[0m \u001b[0mself\u001b[0m\u001b[0;34m.\u001b[0m\u001b[0m_dtype\u001b[0m \u001b[0;32mis\u001b[0m \u001b[0;32mNone\u001b[0m\u001b[0;34m:\u001b[0m\u001b[0;34m\u001b[0m\u001b[0m\n\u001b[1;32m    722\u001b[0m           \u001b[0;32mtry\u001b[0m\u001b[0;34m:\u001b[0m\u001b[0;34m\u001b[0m\u001b[0m\n",
            "\u001b[0;32m/usr/local/lib/python3.6/dist-packages/tensorflow/python/keras/engine/base_layer.py\u001b[0m in \u001b[0;36m_assert_input_compatibility\u001b[0;34m(self, inputs)\u001b[0m\n\u001b[1;32m   1422\u001b[0m                            \u001b[0;34m'expected ndim='\u001b[0m \u001b[0;34m+\u001b[0m \u001b[0mstr\u001b[0m\u001b[0;34m(\u001b[0m\u001b[0mspec\u001b[0m\u001b[0;34m.\u001b[0m\u001b[0mndim\u001b[0m\u001b[0;34m)\u001b[0m \u001b[0;34m+\u001b[0m \u001b[0;34m', found ndim='\u001b[0m \u001b[0;34m+\u001b[0m\u001b[0;34m\u001b[0m\u001b[0m\n\u001b[1;32m   1423\u001b[0m                            \u001b[0mstr\u001b[0m\u001b[0;34m(\u001b[0m\u001b[0mndim\u001b[0m\u001b[0;34m)\u001b[0m \u001b[0;34m+\u001b[0m \u001b[0;34m'. Full shape received: '\u001b[0m \u001b[0;34m+\u001b[0m\u001b[0;34m\u001b[0m\u001b[0m\n\u001b[0;32m-> 1424\u001b[0;31m                            str(x.shape.as_list()))\n\u001b[0m\u001b[1;32m   1425\u001b[0m       \u001b[0;32mif\u001b[0m \u001b[0mspec\u001b[0m\u001b[0;34m.\u001b[0m\u001b[0mmax_ndim\u001b[0m \u001b[0;32mis\u001b[0m \u001b[0;32mnot\u001b[0m \u001b[0;32mNone\u001b[0m\u001b[0;34m:\u001b[0m\u001b[0;34m\u001b[0m\u001b[0m\n\u001b[1;32m   1426\u001b[0m         \u001b[0mndim\u001b[0m \u001b[0;34m=\u001b[0m \u001b[0mx\u001b[0m\u001b[0;34m.\u001b[0m\u001b[0mshape\u001b[0m\u001b[0;34m.\u001b[0m\u001b[0mndims\u001b[0m\u001b[0;34m\u001b[0m\u001b[0m\n",
            "\u001b[0;31mValueError\u001b[0m: Input 0 of layer conv2d is incompatible with the layer: expected ndim=4, found ndim=3. Full shape received: [None, 224, 224]"
          ]
        }
      ]
    }
  ]
}