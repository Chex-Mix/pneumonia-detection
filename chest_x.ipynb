{
  "nbformat": 4,
  "nbformat_minor": 0,
  "metadata": {
    "colab": {
      "name": "chest_x.ipynb",
      "version": "0.3.2",
      "provenance": [],
      "collapsed_sections": [],
      "include_colab_link": true
    },
    "kernelspec": {
      "name": "python3",
      "display_name": "Python 3"
    },
    "accelerator": "GPU"
  },
  "cells": [
    {
      "cell_type": "markdown",
      "metadata": {
        "id": "view-in-github",
        "colab_type": "text"
      },
      "source": [
        "[View in Colaboratory](https://colab.research.google.com/github/Chex-Mix/pneumonia-detection/blob/master/chest_x.ipynb)"
      ]
    },
    {
      "metadata": {
        "id": "Ouub5RdKyJ8v",
        "colab_type": "text"
      },
      "cell_type": "markdown",
      "source": [
        "# Chex Mix: Improving Pneumonia Detection by Considering Existing Disease Labels\n",
        "Blake List and Daniel Bentall\n",
        "\n",
        "## Abstract\n"
      ]
    },
    {
      "metadata": {
        "id": "csUsyjg0RlzC",
        "colab_type": "code",
        "colab": {
          "base_uri": "https://localhost:8080/",
          "height": 35
        },
        "outputId": "c4728a08-73cc-435b-9f27-951c3d5ba6a7"
      },
      "cell_type": "code",
      "source": [
        "# Import the necessary libraries to use the Google Drive directories.\n",
        "!pip install -U -q PyDrive\n",
        "from pydrive.auth import GoogleAuth\n",
        "from pydrive.drive import GoogleDrive\n",
        "from google.colab import auth\n",
        "from oauth2client.client import GoogleCredentials\n",
        "\n",
        "# Authenticate and create the PyDrive client.\n",
        "auth.authenticate_user()\n",
        "gauth = GoogleAuth()\n",
        "gauth.credentials = GoogleCredentials.get_application_default()\n",
        "drive = GoogleDrive(gauth)\n",
        "\n",
        "# Download image data set using its ID.\n",
        "image_df = drive.CreateFile({'id': '1If9W6LymNNJGEa2U_TfgWcsUBCV6_GoI'})\n",
        "image_df.GetContentFile('balanced_resized.zip')\n",
        "\n",
        "# Unzip the image folder.\n",
        "!unzip -q 'balanced_resized.zip'"
      ],
      "execution_count": 1,
      "outputs": [
        {
          "output_type": "stream",
          "text": [
            "replace resized/00000003_000.png? [y]es, [n]o, [A]ll, [N]one, [r]ename: N\n"
          ],
          "name": "stdout"
        }
      ]
    },
    {
      "metadata": {
        "id": "gUszpApzZPbY",
        "colab_type": "code",
        "colab": {
          "base_uri": "https://localhost:8080/",
          "height": 90
        },
        "outputId": "03737754-5806-461e-ee48-0a1593c8006c"
      },
      "cell_type": "code",
      "source": [
        "# Import the necessary packages for preprocessing and plotting.\n",
        "import numpy as np\n",
        "import pandas as pd\n",
        "import tensorflow as tf\n",
        "import sklearn\n",
        "import itertools\n",
        "import cv2\n",
        "import scipy\n",
        "import os\n",
        "import csv\n",
        "import matplotlib.pyplot as plt\n",
        "import matplotlib.image as mpimg\n",
        "from sklearn import metrics\n",
        "from sklearn.preprocessing import LabelEncoder\n",
        "from sklearn.cross_validation import train_test_split\n",
        "from sklearn.metrics import confusion_matrix\n",
        "from sklearn.metrics import accuracy_score\n",
        "from sklearn.linear_model import LogisticRegression\n",
        "from sklearn.model_selection import StratifiedKFold\n",
        "from sklearn.utils import shuffle\n",
        "from keras.utils.np_utils import to_categorical\n",
        "from tqdm import tqdm\n",
        "%matplotlib inline"
      ],
      "execution_count": 2,
      "outputs": [
        {
          "output_type": "stream",
          "text": [
            "/usr/local/lib/python3.6/dist-packages/sklearn/cross_validation.py:41: DeprecationWarning: This module was deprecated in version 0.18 in favor of the model_selection module into which all the refactored classes and functions are moved. Also note that the interface of the new CV iterators are different from that of this module. This module will be removed in 0.20.\n",
            "  \"This module will be removed in 0.20.\", DeprecationWarning)\n",
            "Using TensorFlow backend.\n"
          ],
          "name": "stderr"
        }
      ]
    },
    {
      "metadata": {
        "id": "HJZeCMVZRnsi",
        "colab_type": "code",
        "colab": {
          "base_uri": "https://localhost:8080/",
          "height": 940
        },
        "outputId": "a42d50b3-3825-4dd2-9d43-7f2e89b054c9"
      },
      "cell_type": "code",
      "source": [
        "# Plot an image and its shape from the folder to see what it looks like\n",
        "image = cv2.imread(\"resized/00000013_041.png\")\n",
        "im_shape = image.shape\n",
        "\n",
        "plt.figure(figsize=(16,16))\n",
        "plt.imshow(image)\n",
        "plt.show()"
      ],
      "execution_count": 3,
      "outputs": [
        {
          "output_type": "display_data",
          "data": {
            "image/png": "[encoded data removed]",
            "text/plain": [
              "<matplotlib.figure.Figure at 0x7f4e9d5a2588>"
            ]
          },
          "metadata": {
            "tags": []
          }
        }
      ]
    },
    {
      "metadata": {
        "id": "JE6DBzcZMmNn",
        "colab_type": "text"
      },
      "cell_type": "markdown",
      "source": [
        "###Preprocessing of Metadata:\n",
        "First we extracted the information about each image that was contained in a csv, including basic patient data like age and gender, and the thoracic diseases. This data had to be filtered to just the columns that were going to be used, so we created a subset to exclude any information regarding the view position or dimension of the images, as well as the patient ID. The labels of the thoracic diseases were split into individual columns of booleans of whether each disease was present in the image.\n"
      ]
    },
    {
      "metadata": {
        "id": "V7WVXyexejD-",
        "colab_type": "code",
        "colab": {
          "base_uri": "https://localhost:8080/",
          "height": 369
        },
        "outputId": "d9f0b90f-cd62-4e44-e878-04cf35244c7a"
      },
      "cell_type": "code",
      "source": [
        "# Load in the label csv that includes the image index, thoracic pathologies and \n",
        "# basic patient information. Read in the dataframe and print it.\n",
        "labels_data = drive.CreateFile({'id': '1SGohw8fB1J4QIRX2rr_uQa5158ZApqbk'})\n",
        "labels_data.GetContentFile('balanced_resized_labels.csv')\n",
        "\n",
        "with open('balanced_resized_labels.csv', 'r') as labels_df:\n",
        "    labels_df = pd.read_csv('balanced_resized_labels.csv')\n",
        "    \n",
        "#labels_data = drive.CreateFile({'id': '1BRQMesGMIJuNBmHda2BHUs_F3izA8Ubt'})\n",
        "#labels_data.GetContentFile('balanced_50_50_set_labels.csv')\n",
        "#\n",
        "#with open('balanced_50_50_set_labels.csv', 'r') as labels_df:\n",
        "#  labels_df = pd.read_csv('balanced_50_50_set_labels.csv')\n",
        "    \n",
        "print(labels_df.head())"
      ],
      "execution_count": 4,
      "outputs": [
        {
          "output_type": "stream",
          "text": [
            "        Image Index             Finding Labels  Follow-up #  Patient ID  \\\n",
            "0  00014022_077.png                 No Finding           77       14022   \n",
            "1  00014706_012.png  Cardiomegaly|Infiltration           12       14706   \n",
            "2  00011460_032.png               Pneumothorax           32       11460   \n",
            "3  00029259_010.png                  Emphysema           10       29259   \n",
            "4  00012834_132.png         Pleural_Thickening          132       12834   \n",
            "\n",
            "   Patient Age Patient Gender View Position  OriginalImage[Width  Height]  \\\n",
            "0           66              M            AP                 2500     2048   \n",
            "1           21              F            AP                 2500     2048   \n",
            "2           16              M            PA                 2992     2991   \n",
            "3           34              F            AP                 3056     2544   \n",
            "4           33              M            AP                 2500     2048   \n",
            "\n",
            "   OriginalImagePixelSpacing[x     y]  X12  \n",
            "0                        0.168  0.168  NaN  \n",
            "1                        0.168  0.168  NaN  \n",
            "2                        0.143  0.143  NaN  \n",
            "3                        0.139  0.139  NaN  \n",
            "4                        0.168  0.168  NaN  \n"
          ],
          "name": "stdout"
        }
      ]
    },
    {
      "metadata": {
        "id": "oOXN9pmMocsh",
        "colab_type": "code",
        "colab": {}
      },
      "cell_type": "code",
      "source": [
        "# Extract only the columns that are needed for the preprocessing of the \n",
        "# dataframe for the logistic model\n",
        "df = labels_df.loc[:, ['Image Index', 'Patient Age', 'Patient Gender', 'Follow-up #']]"
      ],
      "execution_count": 0,
      "outputs": []
    },
    {
      "metadata": {
        "id": "u9S3UqcGrh19",
        "colab_type": "code",
        "colab": {}
      },
      "cell_type": "code",
      "source": [
        "# Create a separate dataframe containing the labels column.\n",
        "df_labs = labels_df.loc[:, ['Finding Labels']]"
      ],
      "execution_count": 0,
      "outputs": []
    },
    {
      "metadata": {
        "id": "bv7EQJ0HsRwT",
        "colab_type": "code",
        "colab": {}
      },
      "cell_type": "code",
      "source": [
        "# Create a list of all the labels that will be extracted from the labels column.\n",
        "labels = ['Atelectasis', 'Consolidation', 'Infiltration', 'Pneumothorax',\n",
        "          'Edema', 'Emphysema', 'Fibrosis', 'Effusion', 'Pneumonia', 'Nodule',\n",
        "          'Pleural_Thickening', 'Cardiomegaly', 'Mass', 'Hernia']"
      ],
      "execution_count": 0,
      "outputs": []
    },
    {
      "metadata": {
        "id": "ZrPAUs62sRtX",
        "colab_type": "code",
        "colab": {}
      },
      "cell_type": "code",
      "source": [
        "# Create a function to extract each disease as a boolean for each row; True \n",
        "# where the disease is present in Finding Labels, False otherwise.\n",
        "# Append it as its own column back to 'df' that will be used for the logistic.\n",
        "def label_finder(label):\n",
        "    df[label] = df_labs[df_labs['Finding Labels'].str.contains(label)]\n",
        "    df[label] = df[label].notnull()"
      ],
      "execution_count": 0,
      "outputs": []
    },
    {
      "metadata": {
        "id": "brYBfd3lsRqK",
        "colab_type": "code",
        "colab": {}
      },
      "cell_type": "code",
      "source": [
        "# Iterate over the list of labels and pass to the disease finder function.\n",
        "for label in labels:\n",
        "  label_finder(str(label))"
      ],
      "execution_count": 0,
      "outputs": []
    },
    {
      "metadata": {
        "id": "jHCssCbVsopd",
        "colab_type": "code",
        "colab": {}
      },
      "cell_type": "code",
      "source": [
        "# Convert the patient genders to booleans, where male is True.\n",
        "df['Patient Gender'] = df['Patient Gender'] == 'M'"
      ],
      "execution_count": 0,
      "outputs": []
    },
    {
      "metadata": {
        "id": "jNX-N7nzvePb",
        "colab_type": "code",
        "colab": {}
      },
      "cell_type": "code",
      "source": [
        "# Apply Sklearn's label encoder to convert the boolean columns from True/False \n",
        "# to 1/0.\n",
        "df = df.select_dtypes(exclude=['object', 'number']).apply(LabelEncoder().fit_transform).join(df.select_dtypes(include=['object', 'number']))"
      ],
      "execution_count": 0,
      "outputs": []
    },
    {
      "metadata": {
        "id": "ncLlMoj6soma",
        "colab_type": "code",
        "colab": {
          "base_uri": "https://localhost:8080/",
          "height": 492
        },
        "outputId": "c83a2dc5-9bea-440d-d7bd-26fe22634948"
      },
      "cell_type": "code",
      "source": [
        "# Print the dataframe so far. We can see that all diseases are in separate\n",
        "# columns as booleans and all have been encoded to 1/0 for the logistic model.\n",
        "print(df.head())"
      ],
      "execution_count": 12,
      "outputs": [
        {
          "output_type": "stream",
          "text": [
            "   Patient Gender  Atelectasis  Consolidation  Infiltration  Pneumothorax  \\\n",
            "0               1            0              0             0             0   \n",
            "1               0            0              0             1             0   \n",
            "2               1            0              0             0             1   \n",
            "3               0            0              0             0             0   \n",
            "4               1            0              0             0             0   \n",
            "\n",
            "   Edema  Emphysema  Fibrosis  Effusion  Pneumonia  Nodule  \\\n",
            "0      0          0         0         0          0       0   \n",
            "1      0          0         0         0          0       0   \n",
            "2      0          0         0         0          0       0   \n",
            "3      0          1         0         0          0       0   \n",
            "4      0          0         0         0          0       0   \n",
            "\n",
            "   Pleural_Thickening  Cardiomegaly  Mass  Hernia       Image Index  \\\n",
            "0                   0             0     0       0  00014022_077.png   \n",
            "1                   0             1     0       0  00014706_012.png   \n",
            "2                   0             0     0       0  00011460_032.png   \n",
            "3                   0             0     0       0  00029259_010.png   \n",
            "4                   1             0     0       0  00012834_132.png   \n",
            "\n",
            "   Patient Age  Follow-up #  \n",
            "0           66           77  \n",
            "1           21           12  \n",
            "2           16           32  \n",
            "3           34           10  \n",
            "4           33          132  \n"
          ],
          "name": "stdout"
        }
      ]
    },
    {
      "metadata": {
        "id": "C2c--0KcTdfJ",
        "colab_type": "text"
      },
      "cell_type": "markdown",
      "source": [
        "### Preprocessing of Image Data\n",
        "Before being uploaded to the Google Colab environment, the images we downsized from 1024 x 1024 to 224 x 224. This was done to allow for smaller storage on the drive, and faster runtime. It was also the default size of the input shape to the DenseNet-121 convolutional neural network. The images were then read in and their image arrays were added as a column to the feature label dataframe. We obtained lists for the train and test sets containing the indices of the images used in the train-test split by CheXNet. It was important to include this in our method as it would separate any repeating patient images so that no two patients would appear in both the train and test sets, thus leading to an overfit model. We then merged these lists with the dataframe containing the patient data, disease labels and image arrays. For the purpose of validating the performance of the model, we split the train data into a train and validation set. This would be much smaller than the full train and test set sizes, but would allow us to quickly evaluate our model and adjust any parameters. The column featuring the ‘Pneumonia’ labels for each set was separated to form the response variable, while the remaining data became the predictors. The train validation split that was used to make decisions about the parameters of the model did not take into consideration possible data leakage from having different records from the same patient in the training and validation sets, so the validation scores may have been overly optimistic, however the final test scores do not suffer from this bias."
      ]
    },
    {
      "metadata": {
        "id": "p4rf0nhVHE8g",
        "colab_type": "code",
        "colab": {
          "base_uri": "https://localhost:8080/",
          "height": 125
        },
        "outputId": "ea445689-50f2-40fb-989d-1709fc03820c"
      },
      "cell_type": "code",
      "source": [
        "# Set the image size and input shape. Extract the image arrays and resize them \n",
        "# to the specified input shape then append them to a list.\n",
        "img_size = 224\n",
        "\n",
        "input_shape = (img_size, img_size, 3)\n",
        "\n",
        "X = []\n",
        "\n",
        "for image_filename in tqdm(df['Image Index']):       \n",
        "  img_file = cv2.imread('resized' + '/' + image_filename)\n",
        "  img_file = scipy.misc.imresize(arr=img_file, size=input_shape)\n",
        "  img_arr = np.asarray(img_file)\n",
        "  X.append(img_arr)"
      ],
      "execution_count": 13,
      "outputs": [
        {
          "output_type": "stream",
          "text": [
            "  0%|          | 0/29100 [00:00<?, ?it/s]/usr/local/lib/python3.6/dist-packages/scipy/misc/pilutil.py:482: FutureWarning: Conversion of the second argument of issubdtype from `int` to `np.signedinteger` is deprecated. In future, it will be treated as `np.int64 == np.dtype(int).type`.\n",
            "  if issubdtype(ts, int):\n",
            "/usr/local/lib/python3.6/dist-packages/scipy/misc/pilutil.py:485: FutureWarning: Conversion of the second argument of issubdtype from `float` to `np.floating` is deprecated. In future, it will be treated as `np.float64 == np.dtype(float).type`.\n",
            "  elif issubdtype(type(size), float):\n",
            "100%|██████████| 29100/29100 [00:37<00:00, 767.91it/s]\n"
          ],
          "name": "stderr"
        }
      ]
    },
    {
      "metadata": {
        "id": "24HtwbLxzT0E",
        "colab_type": "code",
        "colab": {}
      },
      "cell_type": "code",
      "source": [
        "# Convert the list of image arrays to a Pandas series and create a new column\n",
        "# in the full dataframe with its values as the column elements.\n",
        "X = pd.Series(X)\n",
        "df['img_arr'] = X.values"
      ],
      "execution_count": 0,
      "outputs": []
    },
    {
      "metadata": {
        "id": "Sm8URMTGyx4Q",
        "colab_type": "code",
        "colab": {
          "base_uri": "https://localhost:8080/",
          "height": 510
        },
        "outputId": "4e582171-0dd3-43c0-8996-4e2d55c64999"
      },
      "cell_type": "code",
      "source": [
        "# Print out the head of the data to see the format and type of each column and\n",
        "# the shape of the dataframe.\n",
        "print(df.head())\n",
        "print(df.shape)"
      ],
      "execution_count": 15,
      "outputs": [
        {
          "output_type": "stream",
          "text": [
            "   Patient Gender  Atelectasis  Consolidation  Infiltration  Pneumothorax  \\\n",
            "0               1            0              0             0             0   \n",
            "1               0            0              0             1             0   \n",
            "2               1            0              0             0             1   \n",
            "3               0            0              0             0             0   \n",
            "4               1            0              0             0             0   \n",
            "\n",
            "   Edema  Emphysema  Fibrosis  Effusion  Pneumonia  Nodule  \\\n",
            "0      0          0         0         0          0       0   \n",
            "1      0          0         0         0          0       0   \n",
            "2      0          0         0         0          0       0   \n",
            "3      0          1         0         0          0       0   \n",
            "4      0          0         0         0          0       0   \n",
            "\n",
            "   Pleural_Thickening  Cardiomegaly  Mass  Hernia       Image Index  \\\n",
            "0                   0             0     0       0  00014022_077.png   \n",
            "1                   0             1     0       0  00014706_012.png   \n",
            "2                   0             0     0       0  00011460_032.png   \n",
            "3                   0             0     0       0  00029259_010.png   \n",
            "4                   1             0     0       0  00012834_132.png   \n",
            "\n",
            "   Patient Age  Follow-up #                                            img_arr  \n",
            "0           66           77  [[[0, 0, 0], [0, 0, 0], [0, 0, 0], [0, 0, 0], ...  \n",
            "1           21           12  [[[0, 0, 0], [0, 0, 0], [0, 0, 0], [0, 0, 0], ...  \n",
            "2           16           32  [[[3, 3, 3], [3, 3, 3], [3, 3, 3], [3, 3, 3], ...  \n",
            "3           34           10  [[[0, 0, 0], [0, 0, 0], [0, 0, 0], [0, 0, 0], ...  \n",
            "4           33          132  [[[8, 8, 8], [12, 12, 12], [10, 10, 10], [11, ...  \n",
            "(29100, 19)\n"
          ],
          "name": "stdout"
        }
      ]
    },
    {
      "metadata": {
        "id": "QKBSN618g4dc",
        "colab_type": "code",
        "colab": {}
      },
      "cell_type": "code",
      "source": [
        "# Read in the list of train image indices from Google Drive and convert them \n",
        "# from a list to a dataframe.\n",
        "labels_data = drive.CreateFile({'id': '1lRMSsJZXaJBl3ajhcK-oIs5KroyMFiQp'})\n",
        "labels_data.GetContentFile('train_val_list.txt')\n",
        "\n",
        "with open('train_val_list.txt', 'r') as f:\n",
        "    train_index_list = [x.strip() for x in f.readlines()]\n",
        "  \n",
        "train_index_list = pd.DataFrame({'Image Index' : train_index_list})"
      ],
      "execution_count": 0,
      "outputs": []
    },
    {
      "metadata": {
        "id": "aDyEpqIyiQuM",
        "colab_type": "code",
        "colab": {}
      },
      "cell_type": "code",
      "source": [
        "# Read in the list of test image indices from Google Drive and convert them \n",
        "# from a list to a dataframe.\n",
        "labels_data = drive.CreateFile({'id': '1P9xhlHs5aulb0UjsryjDmLdugGRC6lDu'})\n",
        "labels_data.GetContentFile('test_list.txt')\n",
        "\n",
        "with open('test_list.txt', 'r') as f:\n",
        "    test_index_list = [x.strip() for x in f.readlines()]\n",
        "  \n",
        "test_index_list = pd.DataFrame({'Image Index' : test_index_list})"
      ],
      "execution_count": 0,
      "outputs": []
    },
    {
      "metadata": {
        "id": "rm5NBLP_zA4e",
        "colab_type": "code",
        "colab": {}
      },
      "cell_type": "code",
      "source": [
        "# Create a train and test dataframe containing both the label and image array \n",
        "# data split using the train and test index lists.\n",
        "train = pd.merge(df, train_index_list, on='Image Index', how='inner')\n",
        "test = pd.merge(df, test_index_list, on='Image Index', how='inner')"
      ],
      "execution_count": 0,
      "outputs": []
    },
    {
      "metadata": {
        "id": "C_s_KskQ0HEI",
        "colab_type": "code",
        "colab": {
          "base_uri": "https://localhost:8080/",
          "height": 52
        },
        "outputId": "e68d2956-7c63-4c0f-d83b-acf9348e1a33"
      },
      "cell_type": "code",
      "source": [
        "# Print out the shapes of the train and test dataframes.\n",
        "print(train.shape)\n",
        "print(test.shape)"
      ],
      "execution_count": 19,
      "outputs": [
        {
          "output_type": "stream",
          "text": [
            "(3504, 19)\n",
            "(25596, 19)\n"
          ],
          "name": "stdout"
        }
      ]
    },
    {
      "metadata": {
        "id": "J3Ap7BYK25-h",
        "colab_type": "code",
        "colab": {}
      },
      "cell_type": "code",
      "source": [
        "# Shuffle the train and test data to remove any form of order.\n",
        "#train = shuffle(train)\n",
        "#test = shuffle(test)"
      ],
      "execution_count": 0,
      "outputs": []
    },
    {
      "metadata": {
        "id": "ku7K8xJVw1gS",
        "colab_type": "code",
        "colab": {}
      },
      "cell_type": "code",
      "source": [
        "# Train-test split the train data to create a validation set.\n",
        "train, validate = train_test_split(train, test_size=0.3, random_state=5)"
      ],
      "execution_count": 0,
      "outputs": []
    },
    {
      "metadata": {
        "id": "QcClMeRj47bo",
        "colab_type": "code",
        "colab": {}
      },
      "cell_type": "code",
      "source": [
        "# Split the train and test data into feature and label sets. The label sets (y)\n",
        "# will only contain the booleans for the 'Pneumonia' column.\n",
        "X_train = train.drop(['Pneumonia'], axis=1)\n",
        "X_test = test.drop(['Pneumonia'], axis=1)\n",
        "y_train = train['Pneumonia']\n",
        "y_test = test['Pneumonia']"
      ],
      "execution_count": 0,
      "outputs": []
    },
    {
      "metadata": {
        "id": "fkDT6paLxSC0",
        "colab_type": "code",
        "colab": {}
      },
      "cell_type": "code",
      "source": [
        "# Split the validation data into feature and label sets. The label sets (y) will\n",
        "# only contain the booleans for the 'Pneumonia' column.\n",
        "X_validate = validate.drop(['Pneumonia'], axis=1)\n",
        "y_validate = validate['Pneumonia']"
      ],
      "execution_count": 0,
      "outputs": []
    },
    {
      "metadata": {
        "id": "SGiZp3FivzhN",
        "colab_type": "code",
        "colab": {}
      },
      "cell_type": "code",
      "source": [
        "# Use Keras to encode labels of the train, test and validation sets to one-hot \n",
        "# categorical vectors (e.g : 1 -> [0,1]).\n",
        "y_trainHot = to_categorical(y_train, num_classes = 2)\n",
        "y_testHot = to_categorical(y_test, num_classes = 2)\n",
        "y_validateHot = to_categorical(y_validate, num_classes = 2)"
      ],
      "execution_count": 0,
      "outputs": []
    },
    {
      "metadata": {
        "id": "vZsnr7fySU49",
        "colab_type": "text"
      },
      "cell_type": "markdown",
      "source": [
        "###Building, Training and Testing the Base Model CNN\n",
        "The DenseNet-121 layer convolutional neural network was trained on the weights from the ImageNet dataset and used as the base model. This particular CNN was chosen as it was also used in CheXNet, the paper adopted as the case study for this project. Three densely connected layers were added to the top of the model; one being a layer of 8 fully connected nodes that would be used as the activations in the input to the logistic regression model, and another being a softmax layer with 2 nodes that would form the baseline classification of the CNN.\n",
        "\n",
        "We defined custom metrics for F1 score, precision and recall that would be used to compile and train the model to be weighted towards the F1 score. Binary cross-entropy loss and adam were used as the loss function and optimizers. The model was first trained on the additional densely connected layers, with the base model frozen, then a section of the base model was unfrozen, from the top dense block onwards, and the model was retrained. A batch size of 16 and 10 epochs were used both times. The validation data was then used to predict the model on and the classification metrics were output, as well as sample images with the true labels and the labels from the prediction.\n"
      ]
    },
    {
      "metadata": {
        "id": "I6oG2YlhvuhY",
        "colab_type": "code",
        "colab": {}
      },
      "cell_type": "code",
      "source": [
        "# Use Keras to build the base model by importing DenseNet-121 CNN pre-trained\n",
        "# on weights from imagenet. Three fully connected layers were added including \n",
        "# the layer that would be extracted for activations and the softmax layer used\n",
        "# for the basemodel classification. See https://keras.io/applications/\n",
        "import keras\n",
        "from keras.applications.densenet import DenseNet121\n",
        "from keras.preprocessing import image\n",
        "from keras.models import Model\n",
        "from keras import optimizers\n",
        "from keras.applications.densenet import preprocess_input, decode_predictions\n",
        "from keras.layers import Dense, GlobalAveragePooling2D, Dropout\n",
        "from keras import backend as K\n",
        "\n",
        "# Create the base pre-trained model.\n",
        "base_model = DenseNet121(weights='imagenet', include_top=False)\n",
        "\n",
        "# Add a global spatial average pooling layer.\n",
        "x = base_model.output\n",
        "x = GlobalAveragePooling2D()(x)\n",
        "\n",
        "# Add two fully-connected layers.\n",
        "x = Dense(128, activation='relu')(x)\n",
        "activations_layer = Dense(8, activation='relu')(x)\n",
        "\n",
        "# Add a logistic layer for the output.\n",
        "predictions = Dense(2, activation='softmax')(activations_layer)\n",
        "\n",
        "# Define the model we will train.\n",
        "model = Model(inputs=base_model.input, outputs=predictions)"
      ],
      "execution_count": 0,
      "outputs": []
    },
    {
      "metadata": {
        "id": "E_dxy8Os-r3e",
        "colab_type": "code",
        "colab": {}
      },
      "cell_type": "code",
      "source": [
        "#http://www.deepideas.net/unbalanced-classes-machine-learning/\n",
        "# Define the custom metrics. F1 Score will be metric the model will be compiled\n",
        "# with to be compared with the CheXNet.\n",
        "def recall(y_true, y_pred):\n",
        "    true_positives = K.sum(K.round(K.clip(y_true * y_pred, 0, 1)))\n",
        "    possible_positives = K.sum(K.round(K.clip(y_true, 0, 1)))\n",
        "    return true_positives / (possible_positives + K.epsilon())\n",
        "\n",
        "def specificity(y_true, y_pred):\n",
        "    true_negatives = K.sum(K.round(K.clip((1-y_true) * (1-y_pred), 0, 1)))\n",
        "    possible_negatives = K.sum(K.round(K.clip(1-y_true, 0, 1)))\n",
        "    return true_negatives / (possible_negatives + K.epsilon())\n",
        "  \n",
        "def precision(y_true, y_pred):\n",
        "    true_positives = K.sum(K.round(K.clip(y_true * y_pred, 0, 1)))\n",
        "    total_predicited_positives = K.sum(K.round(K.clip(y_pred, 0, 1)))\n",
        "    return true_positives / (total_predicited_positives + K.epsilon())\n",
        "  \n",
        "def f1_score(precision, recall):\n",
        "    return 2*((precision*recall)/(precision+recall))"
      ],
      "execution_count": 0,
      "outputs": []
    },
    {
      "metadata": {
        "id": "OCJgmsNs_If9",
        "colab_type": "code",
        "colab": {
          "base_uri": "https://localhost:8080/",
          "height": 407
        },
        "outputId": "07520747-a439-4743-b5fa-36d702ff7850"
      },
      "cell_type": "code",
      "source": [
        "# Train only the top layers (which were randomly initialized) by freezing all \n",
        "# convolutional DenseNet121 layers.\n",
        "for layer in base_model.layers:\n",
        "    layer.trainable = False\n",
        "    \n",
        "# Compile the model with the loss, optimizer and custom metric functions.\n",
        "model.compile(\n",
        "    loss='binary_crossentropy',\n",
        "    optimizer='adam',\n",
        "    metrics=['accuracy'],\n",
        "    weighted_metrics=[f1_score])\n",
        "\n",
        "batch_size = 16\n",
        "train_list = np.asarray(X_train['img_arr'].tolist())\n",
        "\n",
        "# Train the model on the train data for for 10 epochs with a batch size of 16.\n",
        "model.fit(np.asarray(X_train['img_arr'].tolist()), y_trainHot, batch_size=batch_size, epochs=10)\n",
        "\n",
        "#datagen = tf.keras.preprocessing.image.ImageDataGenerator()\n",
        "#datagen.fit(train_list)\n",
        "#model.fit_generator(datagen.flow(train_list, y_trainHot, batch_size=batch_size), steps_per_epoch=(len(train_list)/batch_size), epochs=10)"
      ],
      "execution_count": 27,
      "outputs": [
        {
          "output_type": "stream",
          "text": [
            "Epoch 1/10\n",
            "2452/2452 [==============================] - 25s 10ms/step - loss: 0.5805 - acc: 0.7296 - weighted_f1_score: 0.3692\n",
            "Epoch 2/10\n",
            "2452/2452 [==============================] - 20s 8ms/step - loss: 0.5311 - acc: 0.7443 - weighted_f1_score: 0.3791\n",
            "Epoch 3/10\n",
            "2452/2452 [==============================] - 20s 8ms/step - loss: 0.5185 - acc: 0.7435 - weighted_f1_score: 0.3826\n",
            "Epoch 4/10\n",
            "2452/2452 [==============================] - 20s 8ms/step - loss: 0.5001 - acc: 0.7557 - weighted_f1_score: 0.3867\n",
            "Epoch 5/10\n",
            "2452/2452 [==============================] - 20s 8ms/step - loss: 0.4754 - acc: 0.7741 - weighted_f1_score: 0.3927\n",
            "Epoch 6/10\n",
            "2452/2452 [==============================] - 20s 8ms/step - loss: 0.4533 - acc: 0.7863 - weighted_f1_score: 0.3974\n",
            "Epoch 7/10\n",
            "2452/2452 [==============================] - 20s 8ms/step - loss: 0.4233 - acc: 0.8091 - weighted_f1_score: 0.4043\n",
            "Epoch 8/10\n",
            "2452/2452 [==============================] - 20s 8ms/step - loss: 0.3857 - acc: 0.8361 - weighted_f1_score: 0.4141\n",
            "Epoch 9/10\n",
            "2452/2452 [==============================] - 20s 8ms/step - loss: 0.3425 - acc: 0.8491 - weighted_f1_score: 0.4225\n",
            "Epoch 10/10\n",
            "2452/2452 [==============================] - 20s 8ms/step - loss: 0.2770 - acc: 0.8838 - weighted_f1_score: 0.4377\n"
          ],
          "name": "stdout"
        },
        {
          "output_type": "execute_result",
          "data": {
            "text/plain": [
              "<keras.callbacks.History at 0x7f4e3c5af828>"
            ]
          },
          "metadata": {
            "tags": []
          },
          "execution_count": 27
        }
      ]
    },
    {
      "metadata": {
        "id": "yJCgPaz1RkYH",
        "colab_type": "code",
        "colab": {
          "base_uri": "https://localhost:8080/",
          "height": 7585
        },
        "outputId": "1d5c359b-c982-418f-f5fb-c5efe7824924"
      },
      "cell_type": "code",
      "source": [
        "# Visualize the layer names and layer indices to see how many layers should be \n",
        "# frozen.\n",
        "for i, layer in enumerate(model.layers):\n",
        "   print(i, layer.name)"
      ],
      "execution_count": 28,
      "outputs": [
        {
          "output_type": "stream",
          "text": [
            "0 input_1\n",
            "1 zero_padding2d_1\n",
            "2 conv1/conv\n",
            "3 conv1/bn\n",
            "4 conv1/relu\n",
            "5 zero_padding2d_2\n",
            "6 pool1\n",
            "7 conv2_block1_0_bn\n",
            "8 conv2_block1_0_relu\n",
            "9 conv2_block1_1_conv\n",
            "10 conv2_block1_1_bn\n",
            "11 conv2_block1_1_relu\n",
            "12 conv2_block1_2_conv\n",
            "13 conv2_block1_concat\n",
            "14 conv2_block2_0_bn\n",
            "15 conv2_block2_0_relu\n",
            "16 conv2_block2_1_conv\n",
            "17 conv2_block2_1_bn\n",
            "18 conv2_block2_1_relu\n",
            "19 conv2_block2_2_conv\n",
            "20 conv2_block2_concat\n",
            "21 conv2_block3_0_bn\n",
            "22 conv2_block3_0_relu\n",
            "23 conv2_block3_1_conv\n",
            "24 conv2_block3_1_bn\n",
            "25 conv2_block3_1_relu\n",
            "26 conv2_block3_2_conv\n",
            "27 conv2_block3_concat\n",
            "28 conv2_block4_0_bn\n",
            "29 conv2_block4_0_relu\n",
            "30 conv2_block4_1_conv\n",
            "31 conv2_block4_1_bn\n",
            "32 conv2_block4_1_relu\n",
            "33 conv2_block4_2_conv\n",
            "34 conv2_block4_concat\n",
            "35 conv2_block5_0_bn\n",
            "36 conv2_block5_0_relu\n",
            "37 conv2_block5_1_conv\n",
            "38 conv2_block5_1_bn\n",
            "39 conv2_block5_1_relu\n",
            "40 conv2_block5_2_conv\n",
            "41 conv2_block5_concat\n",
            "42 conv2_block6_0_bn\n",
            "43 conv2_block6_0_relu\n",
            "44 conv2_block6_1_conv\n",
            "45 conv2_block6_1_bn\n",
            "46 conv2_block6_1_relu\n",
            "47 conv2_block6_2_conv\n",
            "48 conv2_block6_concat\n",
            "49 pool2_bn\n",
            "50 pool2_relu\n",
            "51 pool2_conv\n",
            "52 pool2_pool\n",
            "53 conv3_block1_0_bn\n",
            "54 conv3_block1_0_relu\n",
            "55 conv3_block1_1_conv\n",
            "56 conv3_block1_1_bn\n",
            "57 conv3_block1_1_relu\n",
            "58 conv3_block1_2_conv\n",
            "59 conv3_block1_concat\n",
            "60 conv3_block2_0_bn\n",
            "61 conv3_block2_0_relu\n",
            "62 conv3_block2_1_conv\n",
            "63 conv3_block2_1_bn\n",
            "64 conv3_block2_1_relu\n",
            "65 conv3_block2_2_conv\n",
            "66 conv3_block2_concat\n",
            "67 conv3_block3_0_bn\n",
            "68 conv3_block3_0_relu\n",
            "69 conv3_block3_1_conv\n",
            "70 conv3_block3_1_bn\n",
            "71 conv3_block3_1_relu\n",
            "72 conv3_block3_2_conv\n",
            "73 conv3_block3_concat\n",
            "74 conv3_block4_0_bn\n",
            "75 conv3_block4_0_relu\n",
            "76 conv3_block4_1_conv\n",
            "77 conv3_block4_1_bn\n",
            "78 conv3_block4_1_relu\n",
            "79 conv3_block4_2_conv\n",
            "80 conv3_block4_concat\n",
            "81 conv3_block5_0_bn\n",
            "82 conv3_block5_0_relu\n",
            "83 conv3_block5_1_conv\n",
            "84 conv3_block5_1_bn\n",
            "85 conv3_block5_1_relu\n",
            "86 conv3_block5_2_conv\n",
            "87 conv3_block5_concat\n",
            "88 conv3_block6_0_bn\n",
            "89 conv3_block6_0_relu\n",
            "90 conv3_block6_1_conv\n",
            "91 conv3_block6_1_bn\n",
            "92 conv3_block6_1_relu\n",
            "93 conv3_block6_2_conv\n",
            "94 conv3_block6_concat\n",
            "95 conv3_block7_0_bn\n",
            "96 conv3_block7_0_relu\n",
            "97 conv3_block7_1_conv\n",
            "98 conv3_block7_1_bn\n",
            "99 conv3_block7_1_relu\n",
            "100 conv3_block7_2_conv\n",
            "101 conv3_block7_concat\n",
            "102 conv3_block8_0_bn\n",
            "103 conv3_block8_0_relu\n",
            "104 conv3_block8_1_conv\n",
            "105 conv3_block8_1_bn\n",
            "106 conv3_block8_1_relu\n",
            "107 conv3_block8_2_conv\n",
            "108 conv3_block8_concat\n",
            "109 conv3_block9_0_bn\n",
            "110 conv3_block9_0_relu\n",
            "111 conv3_block9_1_conv\n",
            "112 conv3_block9_1_bn\n",
            "113 conv3_block9_1_relu\n",
            "114 conv3_block9_2_conv\n",
            "115 conv3_block9_concat\n",
            "116 conv3_block10_0_bn\n",
            "117 conv3_block10_0_relu\n",
            "118 conv3_block10_1_conv\n",
            "119 conv3_block10_1_bn\n",
            "120 conv3_block10_1_relu\n",
            "121 conv3_block10_2_conv\n",
            "122 conv3_block10_concat\n",
            "123 conv3_block11_0_bn\n",
            "124 conv3_block11_0_relu\n",
            "125 conv3_block11_1_conv\n",
            "126 conv3_block11_1_bn\n",
            "127 conv3_block11_1_relu\n",
            "128 conv3_block11_2_conv\n",
            "129 conv3_block11_concat\n",
            "130 conv3_block12_0_bn\n",
            "131 conv3_block12_0_relu\n",
            "132 conv3_block12_1_conv\n",
            "133 conv3_block12_1_bn\n",
            "134 conv3_block12_1_relu\n",
            "135 conv3_block12_2_conv\n",
            "136 conv3_block12_concat\n",
            "137 pool3_bn\n",
            "138 pool3_relu\n",
            "139 pool3_conv\n",
            "140 pool3_pool\n",
            "141 conv4_block1_0_bn\n",
            "142 conv4_block1_0_relu\n",
            "143 conv4_block1_1_conv\n",
            "144 conv4_block1_1_bn\n",
            "145 conv4_block1_1_relu\n",
            "146 conv4_block1_2_conv\n",
            "147 conv4_block1_concat\n",
            "148 conv4_block2_0_bn\n",
            "149 conv4_block2_0_relu\n",
            "150 conv4_block2_1_conv\n",
            "151 conv4_block2_1_bn\n",
            "152 conv4_block2_1_relu\n",
            "153 conv4_block2_2_conv\n",
            "154 conv4_block2_concat\n",
            "155 conv4_block3_0_bn\n",
            "156 conv4_block3_0_relu\n",
            "157 conv4_block3_1_conv\n",
            "158 conv4_block3_1_bn\n",
            "159 conv4_block3_1_relu\n",
            "160 conv4_block3_2_conv\n",
            "161 conv4_block3_concat\n",
            "162 conv4_block4_0_bn\n",
            "163 conv4_block4_0_relu\n",
            "164 conv4_block4_1_conv\n",
            "165 conv4_block4_1_bn\n",
            "166 conv4_block4_1_relu\n",
            "167 conv4_block4_2_conv\n",
            "168 conv4_block4_concat\n",
            "169 conv4_block5_0_bn\n",
            "170 conv4_block5_0_relu\n",
            "171 conv4_block5_1_conv\n",
            "172 conv4_block5_1_bn\n",
            "173 conv4_block5_1_relu\n",
            "174 conv4_block5_2_conv\n",
            "175 conv4_block5_concat\n",
            "176 conv4_block6_0_bn\n",
            "177 conv4_block6_0_relu\n",
            "178 conv4_block6_1_conv\n",
            "179 conv4_block6_1_bn\n",
            "180 conv4_block6_1_relu\n",
            "181 conv4_block6_2_conv\n",
            "182 conv4_block6_concat\n",
            "183 conv4_block7_0_bn\n",
            "184 conv4_block7_0_relu\n",
            "185 conv4_block7_1_conv\n",
            "186 conv4_block7_1_bn\n",
            "187 conv4_block7_1_relu\n",
            "188 conv4_block7_2_conv\n",
            "189 conv4_block7_concat\n",
            "190 conv4_block8_0_bn\n",
            "191 conv4_block8_0_relu\n",
            "192 conv4_block8_1_conv\n",
            "193 conv4_block8_1_bn\n",
            "194 conv4_block8_1_relu\n",
            "195 conv4_block8_2_conv\n",
            "196 conv4_block8_concat\n",
            "197 conv4_block9_0_bn\n",
            "198 conv4_block9_0_relu\n",
            "199 conv4_block9_1_conv\n",
            "200 conv4_block9_1_bn\n",
            "201 conv4_block9_1_relu\n",
            "202 conv4_block9_2_conv\n",
            "203 conv4_block9_concat\n",
            "204 conv4_block10_0_bn\n",
            "205 conv4_block10_0_relu\n",
            "206 conv4_block10_1_conv\n",
            "207 conv4_block10_1_bn\n",
            "208 conv4_block10_1_relu\n",
            "209 conv4_block10_2_conv\n",
            "210 conv4_block10_concat\n",
            "211 conv4_block11_0_bn\n",
            "212 conv4_block11_0_relu\n",
            "213 conv4_block11_1_conv\n",
            "214 conv4_block11_1_bn\n",
            "215 conv4_block11_1_relu\n",
            "216 conv4_block11_2_conv\n",
            "217 conv4_block11_concat\n",
            "218 conv4_block12_0_bn\n",
            "219 conv4_block12_0_relu\n",
            "220 conv4_block12_1_conv\n",
            "221 conv4_block12_1_bn\n",
            "222 conv4_block12_1_relu\n",
            "223 conv4_block12_2_conv\n",
            "224 conv4_block12_concat\n",
            "225 conv4_block13_0_bn\n",
            "226 conv4_block13_0_relu\n",
            "227 conv4_block13_1_conv\n",
            "228 conv4_block13_1_bn\n",
            "229 conv4_block13_1_relu\n",
            "230 conv4_block13_2_conv\n",
            "231 conv4_block13_concat\n",
            "232 conv4_block14_0_bn\n",
            "233 conv4_block14_0_relu\n",
            "234 conv4_block14_1_conv\n",
            "235 conv4_block14_1_bn\n",
            "236 conv4_block14_1_relu\n",
            "237 conv4_block14_2_conv\n",
            "238 conv4_block14_concat\n",
            "239 conv4_block15_0_bn\n",
            "240 conv4_block15_0_relu\n",
            "241 conv4_block15_1_conv\n",
            "242 conv4_block15_1_bn\n",
            "243 conv4_block15_1_relu\n",
            "244 conv4_block15_2_conv\n",
            "245 conv4_block15_concat\n",
            "246 conv4_block16_0_bn\n",
            "247 conv4_block16_0_relu\n",
            "248 conv4_block16_1_conv\n",
            "249 conv4_block16_1_bn\n",
            "250 conv4_block16_1_relu\n",
            "251 conv4_block16_2_conv\n",
            "252 conv4_block16_concat\n",
            "253 conv4_block17_0_bn\n",
            "254 conv4_block17_0_relu\n",
            "255 conv4_block17_1_conv\n",
            "256 conv4_block17_1_bn\n",
            "257 conv4_block17_1_relu\n",
            "258 conv4_block17_2_conv\n",
            "259 conv4_block17_concat\n",
            "260 conv4_block18_0_bn\n",
            "261 conv4_block18_0_relu\n",
            "262 conv4_block18_1_conv\n",
            "263 conv4_block18_1_bn\n",
            "264 conv4_block18_1_relu\n",
            "265 conv4_block18_2_conv\n",
            "266 conv4_block18_concat\n",
            "267 conv4_block19_0_bn\n",
            "268 conv4_block19_0_relu\n",
            "269 conv4_block19_1_conv\n",
            "270 conv4_block19_1_bn\n",
            "271 conv4_block19_1_relu\n",
            "272 conv4_block19_2_conv\n",
            "273 conv4_block19_concat\n",
            "274 conv4_block20_0_bn\n",
            "275 conv4_block20_0_relu\n",
            "276 conv4_block20_1_conv\n",
            "277 conv4_block20_1_bn\n",
            "278 conv4_block20_1_relu\n",
            "279 conv4_block20_2_conv\n",
            "280 conv4_block20_concat\n",
            "281 conv4_block21_0_bn\n",
            "282 conv4_block21_0_relu\n",
            "283 conv4_block21_1_conv\n",
            "284 conv4_block21_1_bn\n",
            "285 conv4_block21_1_relu\n",
            "286 conv4_block21_2_conv\n",
            "287 conv4_block21_concat\n",
            "288 conv4_block22_0_bn\n",
            "289 conv4_block22_0_relu\n",
            "290 conv4_block22_1_conv\n",
            "291 conv4_block22_1_bn\n",
            "292 conv4_block22_1_relu\n",
            "293 conv4_block22_2_conv\n",
            "294 conv4_block22_concat\n",
            "295 conv4_block23_0_bn\n",
            "296 conv4_block23_0_relu\n",
            "297 conv4_block23_1_conv\n",
            "298 conv4_block23_1_bn\n",
            "299 conv4_block23_1_relu\n",
            "300 conv4_block23_2_conv\n",
            "301 conv4_block23_concat\n",
            "302 conv4_block24_0_bn\n",
            "303 conv4_block24_0_relu\n",
            "304 conv4_block24_1_conv\n",
            "305 conv4_block24_1_bn\n",
            "306 conv4_block24_1_relu\n",
            "307 conv4_block24_2_conv\n",
            "308 conv4_block24_concat\n",
            "309 pool4_bn\n",
            "310 pool4_relu\n",
            "311 pool4_conv\n",
            "312 pool4_pool\n",
            "313 conv5_block1_0_bn\n",
            "314 conv5_block1_0_relu\n",
            "315 conv5_block1_1_conv\n",
            "316 conv5_block1_1_bn\n",
            "317 conv5_block1_1_relu\n",
            "318 conv5_block1_2_conv\n",
            "319 conv5_block1_concat\n",
            "320 conv5_block2_0_bn\n",
            "321 conv5_block2_0_relu\n",
            "322 conv5_block2_1_conv\n",
            "323 conv5_block2_1_bn\n",
            "324 conv5_block2_1_relu\n",
            "325 conv5_block2_2_conv\n",
            "326 conv5_block2_concat\n",
            "327 conv5_block3_0_bn\n",
            "328 conv5_block3_0_relu\n",
            "329 conv5_block3_1_conv\n",
            "330 conv5_block3_1_bn\n",
            "331 conv5_block3_1_relu\n",
            "332 conv5_block3_2_conv\n",
            "333 conv5_block3_concat\n",
            "334 conv5_block4_0_bn\n",
            "335 conv5_block4_0_relu\n",
            "336 conv5_block4_1_conv\n",
            "337 conv5_block4_1_bn\n",
            "338 conv5_block4_1_relu\n",
            "339 conv5_block4_2_conv\n",
            "340 conv5_block4_concat\n",
            "341 conv5_block5_0_bn\n",
            "342 conv5_block5_0_relu\n",
            "343 conv5_block5_1_conv\n",
            "344 conv5_block5_1_bn\n",
            "345 conv5_block5_1_relu\n",
            "346 conv5_block5_2_conv\n",
            "347 conv5_block5_concat\n",
            "348 conv5_block6_0_bn\n",
            "349 conv5_block6_0_relu\n",
            "350 conv5_block6_1_conv\n",
            "351 conv5_block6_1_bn\n",
            "352 conv5_block6_1_relu\n",
            "353 conv5_block6_2_conv\n",
            "354 conv5_block6_concat\n",
            "355 conv5_block7_0_bn\n",
            "356 conv5_block7_0_relu\n",
            "357 conv5_block7_1_conv\n",
            "358 conv5_block7_1_bn\n",
            "359 conv5_block7_1_relu\n",
            "360 conv5_block7_2_conv\n",
            "361 conv5_block7_concat\n",
            "362 conv5_block8_0_bn\n",
            "363 conv5_block8_0_relu\n",
            "364 conv5_block8_1_conv\n",
            "365 conv5_block8_1_bn\n",
            "366 conv5_block8_1_relu\n",
            "367 conv5_block8_2_conv\n",
            "368 conv5_block8_concat\n",
            "369 conv5_block9_0_bn\n",
            "370 conv5_block9_0_relu\n",
            "371 conv5_block9_1_conv\n",
            "372 conv5_block9_1_bn\n",
            "373 conv5_block9_1_relu\n",
            "374 conv5_block9_2_conv\n",
            "375 conv5_block9_concat\n",
            "376 conv5_block10_0_bn\n",
            "377 conv5_block10_0_relu\n",
            "378 conv5_block10_1_conv\n",
            "379 conv5_block10_1_bn\n",
            "380 conv5_block10_1_relu\n",
            "381 conv5_block10_2_conv\n",
            "382 conv5_block10_concat\n",
            "383 conv5_block11_0_bn\n",
            "384 conv5_block11_0_relu\n",
            "385 conv5_block11_1_conv\n",
            "386 conv5_block11_1_bn\n",
            "387 conv5_block11_1_relu\n",
            "388 conv5_block11_2_conv\n",
            "389 conv5_block11_concat\n",
            "390 conv5_block12_0_bn\n",
            "391 conv5_block12_0_relu\n",
            "392 conv5_block12_1_conv\n",
            "393 conv5_block12_1_bn\n",
            "394 conv5_block12_1_relu\n",
            "395 conv5_block12_2_conv\n",
            "396 conv5_block12_concat\n",
            "397 conv5_block13_0_bn\n",
            "398 conv5_block13_0_relu\n",
            "399 conv5_block13_1_conv\n",
            "400 conv5_block13_1_bn\n",
            "401 conv5_block13_1_relu\n",
            "402 conv5_block13_2_conv\n",
            "403 conv5_block13_concat\n",
            "404 conv5_block14_0_bn\n",
            "405 conv5_block14_0_relu\n",
            "406 conv5_block14_1_conv\n",
            "407 conv5_block14_1_bn\n",
            "408 conv5_block14_1_relu\n",
            "409 conv5_block14_2_conv\n",
            "410 conv5_block14_concat\n",
            "411 conv5_block15_0_bn\n",
            "412 conv5_block15_0_relu\n",
            "413 conv5_block15_1_conv\n",
            "414 conv5_block15_1_bn\n",
            "415 conv5_block15_1_relu\n",
            "416 conv5_block15_2_conv\n",
            "417 conv5_block15_concat\n",
            "418 conv5_block16_0_bn\n",
            "419 conv5_block16_0_relu\n",
            "420 conv5_block16_1_conv\n",
            "421 conv5_block16_1_bn\n",
            "422 conv5_block16_1_relu\n",
            "423 conv5_block16_2_conv\n",
            "424 conv5_block16_concat\n",
            "425 bn\n",
            "426 global_average_pooling2d_1\n",
            "427 dense_1\n",
            "428 dense_2\n",
            "429 dense_3\n"
          ],
          "name": "stdout"
        }
      ]
    },
    {
      "metadata": {
        "id": "RlCVMnvpSHFM",
        "colab_type": "code",
        "colab": {}
      },
      "cell_type": "code",
      "source": [
        "# We will unfreeze the top dense block and keep the first 313 layers frozen.\n",
        "for layer in model.layers[:313]:\n",
        "   layer.trainable = False\n",
        "for layer in model.layers[313:]:\n",
        "   layer.trainable = True"
      ],
      "execution_count": 0,
      "outputs": []
    },
    {
      "metadata": {
        "id": "S-ZDA96vSKR1",
        "colab_type": "code",
        "colab": {}
      },
      "cell_type": "code",
      "source": [
        "# Recompile the model for these modifications to take effect.\n",
        "model.compile(\n",
        "    loss='binary_crossentropy',\n",
        "    optimizer='adam',\n",
        "    metrics=['accuracy'],\n",
        "    weighted_metrics=[f1_score])"
      ],
      "execution_count": 0,
      "outputs": []
    },
    {
      "metadata": {
        "id": "mFyTtRtNSPyf",
        "colab_type": "code",
        "colab": {
          "base_uri": "https://localhost:8080/",
          "height": 407
        },
        "outputId": "a455dbf7-8c21-46ec-964c-d30d096351e4"
      },
      "cell_type": "code",
      "source": [
        "# Train the model on the train data for 10 epochs with batch size 16 again.\n",
        "model.fit(np.asarray(X_train['img_arr'].tolist()), y_trainHot, batch_size=batch_size, epochs=10)\n",
        "\n",
        "#datagen = tf.keras.preprocessing.image.ImageDataGenerator()\n",
        "#datagen.fit(train_list)\n",
        "#model.fit_generator(datagen.flow(train_list, y_trainHot, batch_size=batch_size), steps_per_epoch=(len(train_list)/batch_size), epochs=10)\n",
        "\n",
        "# List all data in the history.\n",
        "#print(history.history.keys())\n",
        "\n",
        "# Plot accuracy and loss against epoch count.\n",
        "#plt.plot(history.history['precision'])\n",
        "#plt.plot(history.history['recall'])\n",
        "#plt.title('Model Precision vs. Recall')\n",
        "#plt.ylabel('Precision')\n",
        "#plt.xlabel('Loss')\n",
        "#plt.legend(['Precision', 'Recall'], loc='upper left')\n",
        "#plt.show()"
      ],
      "execution_count": 31,
      "outputs": [
        {
          "output_type": "stream",
          "text": [
            "Epoch 1/10\n",
            "2452/2452 [==============================] - 36s 14ms/step - loss: 0.6042 - acc: 0.7378 - weighted_f1_score: 0.3766\n",
            "Epoch 2/10\n",
            "2452/2452 [==============================] - 27s 11ms/step - loss: 0.4695 - acc: 0.7716 - weighted_f1_score: 0.3958\n",
            "Epoch 3/10\n",
            "2452/2452 [==============================] - 27s 11ms/step - loss: 0.3841 - acc: 0.8295 - weighted_f1_score: 0.4168\n",
            "Epoch 4/10\n",
            "2452/2452 [==============================] - 27s 11ms/step - loss: 0.3218 - acc: 0.8589 - weighted_f1_score: 0.4314\n",
            "Epoch 5/10\n",
            "2452/2452 [==============================] - 27s 11ms/step - loss: 0.2448 - acc: 0.9021 - weighted_f1_score: 0.4486\n",
            "Epoch 6/10\n",
            "2452/2452 [==============================] - 27s 11ms/step - loss: 0.2014 - acc: 0.9127 - weighted_f1_score: 0.4577\n",
            "Epoch 7/10\n",
            "2452/2452 [==============================] - 27s 11ms/step - loss: 0.1610 - acc: 0.9347 - weighted_f1_score: 0.4673\n",
            "Epoch 8/10\n",
            "2452/2452 [==============================] - 27s 11ms/step - loss: 0.1219 - acc: 0.9531 - weighted_f1_score: 0.4753\n",
            "Epoch 9/10\n",
            "2452/2452 [==============================] - 27s 11ms/step - loss: 0.1314 - acc: 0.9519 - weighted_f1_score: 0.4743\n",
            "Epoch 10/10\n",
            "2452/2452 [==============================] - 27s 11ms/step - loss: 0.0933 - acc: 0.9645 - weighted_f1_score: 0.4815\n"
          ],
          "name": "stdout"
        },
        {
          "output_type": "execute_result",
          "data": {
            "text/plain": [
              "<keras.callbacks.History at 0x7f4e1e6ae160>"
            ]
          },
          "metadata": {
            "tags": []
          },
          "execution_count": 31
        }
      ]
    },
    {
      "metadata": {
        "id": "vhlF6CbRPjNd",
        "colab_type": "code",
        "colab": {
          "base_uri": "https://localhost:8080/",
          "height": 415
        },
        "outputId": "48033833-0d0c-4cd6-e075-16f6f4fb63b0"
      },
      "cell_type": "code",
      "source": [
        "# Define the class labels and predict on the validation set. Then output the \n",
        "# predictions using Sklearn metrics and sample images of the validation data.\n",
        "labels = ['No Pneumonia', 'Pneumonia']\n",
        "\n",
        "input_shape = (img_size, img_size, 3)\n",
        "\n",
        "#test_x = np.asarray(X_test['img_arr'].tolist())\n",
        "validation = np.asarray(X_validate['img_arr'].tolist()) \n",
        "preds = model.predict(validation)\n",
        "cls_pred = np.argmax(preds, axis=1)\n",
        "\n",
        "# Print precision, recall, support and F1 score for the two classes.\n",
        "print(sklearn.metrics.classification_report(y_validate, cls_pred, target_names=labels))\n",
        "\n",
        "# Show the images.\n",
        "def plot_images(images, cls_true, cls_pred=None):\n",
        "    assert len(images) == len(cls_true) == 9\n",
        "    \n",
        "    # Create figure with 3x3 sub-plots.\n",
        "    fig, axes = plt.subplots(3, 3)\n",
        "    fig.subplots_adjust(hspace=0.5, wspace=0.3)\n",
        "\n",
        "    for i, ax in enumerate(axes.flat):\n",
        "        # Plot image.\n",
        "        ax.imshow(images[i].reshape(input_shape), cmap='binary')\n",
        "\n",
        "        # Show true and predicted classes.\n",
        "        if cls_pred is None:\n",
        "            xlabel = \"True: {0}\".format(labels[cls_true[i]])\n",
        "        else:\n",
        "            xlabel = \"True: {0},\\nPred: {1}\".format(labels[cls_true[i]-1],\n",
        "                                                    labels[cls_pred[i]-1])\n",
        "\n",
        "        # Show the classes as the label on the x-axis.\n",
        "        ax.set_xlabel(xlabel)\n",
        "        \n",
        "        # Remove ticks from the plot.\n",
        "        ax.set_xticks([])\n",
        "        ax.set_yticks([])\n",
        "    \n",
        "    # Ensure the plot is shown correctly with multiple plots in a \n",
        "    # single Notebook cell.\n",
        "    plt.show()\n",
        "      \n",
        "# Plot the first nine images and their corresponding true and predicted labels.\n",
        "plot_images(validation[0:9], np.argmax(y_validateHot[0:9], axis=1), cls_pred[0:9])\n",
        "\n",
        "# Print the accuracy of the model.\n",
        "print(\"acc: %.02f\" % sklearn.metrics.accuracy_score(y_validate, cls_pred))"
      ],
      "execution_count": 32,
      "outputs": [
        {
          "output_type": "stream",
          "text": [
            "              precision    recall  f1-score   support\n",
            "\n",
            "No Pneumonia       0.75      0.42      0.54       804\n",
            "   Pneumonia       0.23      0.55      0.32       248\n",
            "\n",
            " avg / total       0.63      0.45      0.49      1052\n",
            "\n"
          ],
          "name": "stdout"
        },
        {
          "output_type": "display_data",
          "data": {
            "image/png": "[encoded data removed]",
            "text/plain": [
              "<matplotlib.figure.Figure at 0x7f4e1b061320>"
            ]
          },
          "metadata": {
            "tags": []
          }
        },
        {
          "output_type": "stream",
          "text": [
            "acc: 0.45\n"
          ],
          "name": "stdout"
        }
      ]
    },
    {
      "metadata": {
        "id": "rLOnX4rjHCBz",
        "colab_type": "code",
        "colab": {
          "base_uri": "https://localhost:8080/",
          "height": 329
        },
        "outputId": "fdfd632f-d428-47e4-85b5-0eeb55952021"
      },
      "cell_type": "code",
      "source": [
        "from sklearn.metrics import average_precision_score\n",
        "from sklearn.metrics import precision_recall_curve\n",
        "import matplotlib.pyplot as plt\n",
        "from sklearn.utils.fixes import signature\n",
        "\n",
        "average_precision = average_precision_score(y_validate, cls_pred)\n",
        "\n",
        "print('Average precision-recall score: {0:0.2f}'.format(\n",
        "      average_precision))\n",
        "\n",
        "precision, recall, _ = precision_recall_curve(y_validate, cls_pred)\n",
        "\n",
        "# In matplotlib < 1.5, plt.fill_between does not have a 'step' argument\n",
        "step_kwargs = ({'step': 'post'}\n",
        "               if 'step' in signature(plt.fill_between).parameters\n",
        "               else {})\n",
        "plt.step(recall, precision, color='b', alpha=0.2,\n",
        "         where='post')\n",
        "plt.fill_between(recall, precision, alpha=0.2, color='b', **step_kwargs)\n",
        "\n",
        "plt.xlabel('Recall')\n",
        "plt.ylabel('Precision')\n",
        "plt.ylim([0.0, 1.05])\n",
        "plt.xlim([0.0, 1.0])\n",
        "plt.title('2-class Precision-Recall curve: AP={0:0.2f}'.format(\n",
        "          average_precision))"
      ],
      "execution_count": 33,
      "outputs": [
        {
          "output_type": "stream",
          "text": [
            "Average precision-recall score: 0.23\n"
          ],
          "name": "stdout"
        },
        {
          "output_type": "execute_result",
          "data": {
            "text/plain": [
              "Text(0.5,1,'2-class Precision-Recall curve: AP=0.23')"
            ]
          },
          "metadata": {
            "tags": []
          },
          "execution_count": 33
        },
        {
          "output_type": "display_data",
          "data": {
            "image/png": "[encoded data removed]",
            "text/plain": [
              "<matplotlib.figure.Figure at 0x7f4e1e7caa20>"
            ]
          },
          "metadata": {
            "tags": []
          }
        }
      ]
    },
    {
      "metadata": {
        "id": "GtH6B9_uXIa7",
        "colab_type": "text"
      },
      "cell_type": "markdown",
      "source": [
        "###Extracting Activations and Building the Logistic Model\n",
        "Next, we extract the activations from the densely connected layer with 8 nodes after the model is predicted on the train and validation data. These activations will form part of the input to the logistic regression model. We then concatenate these activations with each of the train test and validation feature dataframes and drop any columns that will not be included in the logistic model, such as the image index or image array columns. A function is defined that will take as input, the logistic regression model from Sklearn, and the X and y train and test or validation sets. The function then computes the accuracy, precision, recall and F-1 score of the model to be compared with the baseline CNN results. Another final call is made to the logistic regression function that trains and tests on just the disease label and patient data, excluding the activations. This is done to confirm that the result of the logistic model trained and tested on the activations from the CNN is actually significant."
      ]
    },
    {
      "metadata": {
        "id": "NXNKnvKy5FJm",
        "colab_type": "code",
        "colab": {}
      },
      "cell_type": "code",
      "source": [
        "# Extract the activations from the second to last dense layer that has 8 nodes.\n",
        "feature_layer = Model(inputs=model.input, outputs=model.get_layer('dense_2').output)"
      ],
      "execution_count": 0,
      "outputs": []
    },
    {
      "metadata": {
        "id": "_MXufKByBq6-",
        "colab_type": "code",
        "colab": {}
      },
      "cell_type": "code",
      "source": [
        "# Predict on the train, test and validation sets to get the activations of the \n",
        "# dense layer.\n",
        "pool_features_train = feature_layer.predict(np.asarray(X_train['img_arr'].tolist()))\n",
        "#pool_features_test = feature_layer.predict(np.asarray(X_test['img_arr'].tolist()))\n",
        "pool_features_validate = feature_layer.predict(np.asarray(X_validate['img_arr'].tolist()))"
      ],
      "execution_count": 0,
      "outputs": []
    },
    {
      "metadata": {
        "id": "brE4rbDA_xI0",
        "colab_type": "code",
        "colab": {}
      },
      "cell_type": "code",
      "source": [
        "# Convert the arrays of activations to dataframes to be concatenated to the rest\n",
        "# of the data.\n",
        "pool_features_train = pd.DataFrame(pool_features_train)\n",
        "#pool_features_test = pd.DataFrame(pool_features_test)\n",
        "pool_features_validate = pd.DataFrame(pool_features_validate)"
      ],
      "execution_count": 0,
      "outputs": []
    },
    {
      "metadata": {
        "id": "vGPh1RET-tEt",
        "colab_type": "code",
        "colab": {}
      },
      "cell_type": "code",
      "source": [
        "# Drop the column of image arrays from the train data.\n",
        "X_train = X_train.drop(['img_arr'], axis=1)\n",
        "#X_test = X_test.drop(['img_arr'], axis=1)\n",
        "X_validate = X_validate.drop(['img_arr'], axis=1)"
      ],
      "execution_count": 0,
      "outputs": []
    },
    {
      "metadata": {
        "id": "pAbqMBJr_mI-",
        "colab_type": "code",
        "colab": {}
      },
      "cell_type": "code",
      "source": [
        "# Concatenate the CNN layer activations with disease labels and patient data.\n",
        "X_train_log = pd.concat([X_train.reset_index(drop=True), pool_features_train], axis=1)\n",
        "#X_test_log = pd.concat([X_test.reset_index(drop=True), pool_features_test], axis=1)\n",
        "X_validate_log = pd.concat([X_validate.reset_index(drop=True), pool_features_validate], axis=1)"
      ],
      "execution_count": 0,
      "outputs": []
    },
    {
      "metadata": {
        "id": "iZY4JfP_A1kp",
        "colab_type": "code",
        "colab": {}
      },
      "cell_type": "code",
      "source": [
        "# Drop the column containing the image indices from the feature sets.\n",
        "X_train_log = X_train_log.drop(['Image Index'], axis=1)\n",
        "#X_test_log = X_test_log.drop(['Image Index'], axis=1)\n",
        "X_validate_log = X_validate_log.drop(['Image Index'], axis=1)"
      ],
      "execution_count": 0,
      "outputs": []
    },
    {
      "metadata": {
        "id": "bX3RWh40GJJ7",
        "colab_type": "code",
        "colab": {}
      },
      "cell_type": "code",
      "source": [
        "# Define the label sets for train, test and validation.\n",
        "y_train_log = y_train\n",
        "#y_test_log = y_test\n",
        "y_validate_log = y_validate"
      ],
      "execution_count": 0,
      "outputs": []
    },
    {
      "metadata": {
        "id": "ODBoK-XF3tgX",
        "colab_type": "code",
        "colab": {
          "base_uri": "https://localhost:8080/",
          "height": 945
        },
        "outputId": "9b4f3e7b-ec61-49ab-f197-cf6c8f25b7a2"
      },
      "cell_type": "code",
      "source": [
        "# Define a function which will be used to calculate the metrics of the logistic\n",
        "# regression model and output its results as well as the coefficients of the \n",
        "# model.\n",
        "def test_model(model, X_train, y_train, X_test, y_test):\n",
        "  model.fit(X_train, y_train)\n",
        "  y_predict = model.predict(X_test)\n",
        "  print(\"%s: %f\" % (str(model), metrics.accuracy_score(y_test, y_predict)))\n",
        "  print(metrics.classification_report(y_test, y_predict, target_names=labels))\n",
        "  y_predict_proba = model.predict_proba(X_test)\n",
        "  \n",
        "  fpr, tpr, _ = metrics.roc_curve(y_test, y_predict_proba[:,1])\n",
        "  roc_auc = metrics.auc(fpr, tpr)\n",
        "  \n",
        "  plt.figure()\n",
        "  lw = 2\n",
        "  plt.plot(fpr, tpr, color='darkorange',\n",
        "           lw=lw, label='ROC curve (area = %0.2f)' % roc_auc)\n",
        "  plt.plot([0, 1], [0, 1], color='navy', lw=lw, linestyle='--')\n",
        "  plt.xlim([0.0, 1.0])\n",
        "  plt.ylim([0.0, 1.05])\n",
        "  plt.xlabel('False Positive Rate')\n",
        "  plt.ylabel('True Positive Rate')\n",
        "  plt.title('Receiver operating characteristic example')\n",
        "  plt.legend(loc=\"lower right\")\n",
        "  plt.show()\n",
        "  \n",
        "  print(\"acc: %.02f\" % sklearn.metrics.accuracy_score(y_test, np.argmax(y_predict_proba, axis=1)))\n",
        "    \n",
        "  \n",
        "  coefficients = pd.DataFrame({\"Coefficients\":np.transpose(model.coef_[0, ]), \"Feature\":X_train.columns})\n",
        "  print(coefficients)\n",
        "  \n",
        "test_model(LogisticRegression(X_train_log, y_train_log, X_validate_log, y_validate_log))"
      ],
      "execution_count": 43,
      "outputs": [
        {
          "output_type": "stream",
          "text": [
            "LogisticRegression(C=1.0, class_weight=None, dual=False, fit_intercept=True,\n",
            "          intercept_scaling=1, max_iter=100, multi_class='ovr', n_jobs=1,\n",
            "          penalty='l2', random_state=None, solver='liblinear', tol=0.0001,\n",
            "          verbose=0, warm_start=False): 0.792776\n",
            "              precision    recall  f1-score   support\n",
            "\n",
            "No Pneumonia       0.81      0.96      0.88       804\n",
            "   Pneumonia       0.65      0.26      0.37       248\n",
            "\n",
            " avg / total       0.77      0.79      0.76      1052\n",
            "\n"
          ],
          "name": "stdout"
        },
        {
          "output_type": "display_data",
          "data": {
            "image/png": "[encoded data removed]",
            "text/plain": [
              "<matplotlib.figure.Figure at 0x7f4e1e6aef28>"
            ]
          },
          "metadata": {
            "tags": []
          }
        },
        {
          "output_type": "stream",
          "text": [
            "acc: 0.79\n",
            "    Coefficients             Feature\n",
            "0       0.135964      Patient Gender\n",
            "1       0.849024         Atelectasis\n",
            "2       0.392039       Consolidation\n",
            "3       0.927259        Infiltration\n",
            "4      -0.754764        Pneumothorax\n",
            "5       2.128118               Edema\n",
            "6       0.022439           Emphysema\n",
            "7      -0.390777            Fibrosis\n",
            "8       0.377223            Effusion\n",
            "9       0.145279              Nodule\n",
            "10     -0.213894  Pleural_Thickening\n",
            "11      0.137875        Cardiomegaly\n",
            "12      0.149382                Mass\n",
            "13     -0.552395              Hernia\n",
            "14     -0.007087         Patient Age\n",
            "15      0.017954         Follow-up #\n",
            "16      0.000000                   0\n",
            "17     -0.101937                   1\n",
            "18      0.011013                   2\n",
            "19     -0.004240                   3\n",
            "20      0.010470                   4\n",
            "21      0.001342                   5\n",
            "22      0.002787                   6\n",
            "23      0.073692                   7\n"
          ],
          "name": "stdout"
        }
      ]
    },
    {
      "metadata": {
        "id": "Z5PBmJcgOlEm",
        "colab_type": "code",
        "colab": {
          "base_uri": "https://localhost:8080/",
          "height": 805
        },
        "outputId": "9cfae8c1-7f65-4707-f0c8-40ed4560fcd8"
      },
      "cell_type": "code",
      "source": [
        "# Train and test the logistic regression model without any activations from the\n",
        "# DenseNet-121 CNN.\n",
        "X_logit_train = X_train.drop('Image Index', axis=1)\n",
        "X_logit_validate = X_validate.drop('Image Index', axis=1)\n",
        "  \n",
        "test_model(LogisticRegression(X_logit_train, y_train_log, X_logit_validate, y_validate_log))"
      ],
      "execution_count": 44,
      "outputs": [
        {
          "output_type": "stream",
          "text": [
            "LogisticRegression(C=1.0, class_weight=None, dual=False, fit_intercept=True,\n",
            "          intercept_scaling=1, max_iter=100, multi_class='ovr', n_jobs=1,\n",
            "          penalty='l2', random_state=None, solver='liblinear', tol=0.0001,\n",
            "          verbose=0, warm_start=False): 0.793726\n",
            "              precision    recall  f1-score   support\n",
            "\n",
            "No Pneumonia       0.81      0.96      0.88       804\n",
            "   Pneumonia       0.66      0.26      0.37       248\n",
            "\n",
            " avg / total       0.77      0.79      0.76      1052\n",
            "\n"
          ],
          "name": "stdout"
        },
        {
          "output_type": "display_data",
          "data": {
            "image/png": "[encoded data removed]",
            "text/plain": [
              "<matplotlib.figure.Figure at 0x7f4e1ad42400>"
            ]
          },
          "metadata": {
            "tags": []
          }
        },
        {
          "output_type": "stream",
          "text": [
            "acc: 0.79\n",
            "    Coefficients             Feature\n",
            "0       0.116534      Patient Gender\n",
            "1       0.848139         Atelectasis\n",
            "2       0.385268       Consolidation\n",
            "3       0.914075        Infiltration\n",
            "4      -0.748623        Pneumothorax\n",
            "5       2.118032               Edema\n",
            "6       0.028672           Emphysema\n",
            "7      -0.365476            Fibrosis\n",
            "8       0.373368            Effusion\n",
            "9       0.137545              Nodule\n",
            "10     -0.223386  Pleural_Thickening\n",
            "11      0.146880        Cardiomegaly\n",
            "12      0.158268                Mass\n",
            "13     -0.553242              Hernia\n",
            "14     -0.007098         Patient Age\n",
            "15      0.018214         Follow-up #\n"
          ],
          "name": "stdout"
        }
      ]
    }
  ]
}